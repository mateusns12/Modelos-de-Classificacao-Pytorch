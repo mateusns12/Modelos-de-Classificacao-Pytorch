{
  "nbformat": 4,
  "nbformat_minor": 0,
  "metadata": {
    "colab": {
      "provenance": []
    },
    "kernelspec": {
      "name": "python3",
      "display_name": "Python 3"
    },
    "language_info": {
      "name": "python"
    },
    "accelerator": "GPU",
    "gpuClass": "standard"
  },
  "cells": [
    {
      "cell_type": "code",
      "execution_count": null,
      "metadata": {
        "id": "65K-ywQpXaZ1"
      },
      "outputs": [],
      "source": [
        "%%capture\n",
        "import numpy as np\n",
        "import torch\n",
        "import torch.nn as nn\n",
        "import torch.optim as optim\n",
        "import torch.nn.functional as F\n",
        "!pip install nltk\n",
        "import nltk\n",
        "nltk.download('stopwords')\n",
        "from nltk.corpus import stopwords\n",
        "import seaborn as sns\n",
        "import time\n",
        "import pandas as pd\n",
        "import re\n",
        "import string\n",
        "import matplotlib.pyplot as plt\n",
        "from collections import Counter\n",
        "from torch.utils.data import DataLoader, TensorDataset\n",
        "\n",
        "!pip install transformers\n",
        "\n",
        "from transformers import  AutoTokenizer, BertTokenizer,  AutoModel\n",
        "\n",
        "device = torch.device('cuda' if torch.cuda.is_available() else 'cpu')\n",
        "\n",
        "print(device) #Todos os valore e vetores são carregados na gpu, caso ela esteja disponível"
      ]
    },
    {
      "cell_type": "code",
      "source": [
        "%%capture\n",
        "tokenizer = AutoTokenizer.from_pretrained('neuralmind/bert-base-portuguese-cased')\n",
        "model = AutoModel.from_pretrained('neuralmind/bert-base-portuguese-cased').to(device)"
      ],
      "metadata": {
        "id": "CTlDIrAxpZnV"
      },
      "execution_count": null,
      "outputs": []
    },
    {
      "cell_type": "code",
      "source": [
        "def get_data(nome_arquivo,shuffle):\n",
        "    ds = pd.read_csv(nome_arquivo,encoding=\"utf-8\")\n",
        "    if shuffle:\n",
        "        ds = ds.sample(frac=1)\n",
        "    ds['texto'] = ds['texto'].apply(str)\n",
        "    return ds\n",
        "\n",
        "stop = set(stopwords.words(\"portuguese\"))\n",
        "\n",
        "def remove_stopwords(text):\n",
        "    filtered_words = [word.lower() for word in text.split() if word.lower() not in stop]\n",
        "    return \" \".join(filtered_words)\n",
        "\n",
        "def remove_URL(text):\n",
        "    url = re.compile(r\"https?://\\S+|www\\.\\S+\")\n",
        "    return url.sub(r\"\",text)\n",
        "\n",
        "def remove_punct(text):\n",
        "    translator = str.maketrans(\"\",\"\",'!\"\"#$%&\\'()*+,./:;<=>?@[\\\\]^_`{|}~º')\n",
        "    translator = str.maketrans(\"\",\"\",'!\"\"#$%&\\'()*+,./:;<=>?@[\\\\]^_`{|}~º')\n",
        "    return text.translate(translator)\n",
        "\n",
        "def remove_numbers(text):\n",
        "    result = ''.join([i for i in text if not i.isdigit()])\n",
        "    return result\n",
        "\n",
        "def remove_hifen(text):\n",
        "    translator = str.maketrans('-',' ')\n",
        "    return text.translate(translator)\n",
        "\n",
        "pattern = re.compile(r\"https?//(\\S+|www)\\.\\S+\")\n",
        "def pat(df_t):\n",
        "    for t in df_t.texto:\n",
        "        matches = pattern.findall(t)\n",
        "        for match in  matches:\n",
        "            print(t)\n",
        "            print(match)\n",
        "            print(pattern.sub(r\"\",t))        \n",
        "        if len(matches)> 0:\n",
        "            break\n",
        "\n",
        "def make_test(df_t):\n",
        "    df_t[\"texto\"] = df_t.texto.map(remove_URL)\n",
        "    df_t[\"texto\"] = df_t.texto.map(remove_punct)\n",
        "    df_t[\"texto\"] = df_t.texto.map(remove_hifen)\n",
        "    #df_t[\"texto\"] = df_t.texto.map(remove_numbers)\n",
        "    df_t[\"texto\"] = df_t.texto.map(remove_stopwords)\n",
        "\n",
        "def prepare(teste):\n",
        "    teste = remove_URL(teste)\n",
        "    teste = remove_punct(teste)\n",
        "    teste = remove_hifen(teste)\n",
        "    teste = remove_stopwords(teste)    \n",
        "    return teste\n",
        "\n",
        "def counter_word(text_col):\n",
        "    count = Counter()\n",
        "    for text in text_col.values:\n",
        "        for word in text.split():\n",
        "            count[word] += 1\n",
        "    return count\n",
        "\n",
        "#counter = counter_word(df.texto)  \n",
        "\n",
        "def prepare(teste):\n",
        "    teste = remove_URL(teste)\n",
        "    #teste = remove_punct(teste)\n",
        "    teste = remove_hifen(teste)\n",
        "    teste = remove_stopwords(teste)    \n",
        "    return teste"
      ],
      "metadata": {
        "id": "5mwg2Imlbdk9"
      },
      "execution_count": null,
      "outputs": []
    },
    {
      "cell_type": "code",
      "source": [
        "train_csv = 'https://raw.githubusercontent.com/mateusns12/Modelos-de-Classificacao/master/Modelo-Eletrica-Eletronica/train.csv'\n",
        "eval_csv = 'https://raw.githubusercontent.com/mateusns12/Modelos-de-Classificacao/master/Modelo-Eletrica-Eletronica/eval.csv'"
      ],
      "metadata": {
        "id": "GeF_JZiPboQ_"
      },
      "execution_count": null,
      "outputs": []
    },
    {
      "cell_type": "code",
      "source": [
        "df = get_data(train_csv,1)\n",
        "dt = get_data(eval_csv,0)"
      ],
      "metadata": {
        "id": "6VQiSx2hbtg4"
      },
      "execution_count": null,
      "outputs": []
    },
    {
      "cell_type": "code",
      "source": [
        "pat(df)\n",
        "make_test(df)\n",
        "pat(dt)\n",
        "make_test(dt)"
      ],
      "metadata": {
        "id": "JGdFYRIbbvTn"
      },
      "execution_count": null,
      "outputs": []
    },
    {
      "cell_type": "code",
      "source": [
        "class MyDataset(torch.utils.data.Dataset):\n",
        "\n",
        "    def __init__(self,X,y):\n",
        "        self.X = X\n",
        "        self.X = self.X.to(device)\n",
        "\n",
        "        self.y = y\n",
        "        self.y = self.y.to(device)\n",
        "\n",
        "        self.len = len(y)\n",
        "\n",
        "    def __len__(self):\n",
        "        return self.len\n",
        "    \n",
        "    def __getitem__(self,idx):\n",
        "        return self.X[:,idx],self.y[idx]"
      ],
      "metadata": {
        "id": "KAOA6m3mm2uL"
      },
      "execution_count": null,
      "outputs": []
    },
    {
      "cell_type": "code",
      "source": [
        "df_tok = tokenizer.batch_encode_plus(df['texto'].tolist(), max_length=150, truncation= True, padding=\"max_length\", \n",
        "                                  add_special_tokens= True, return_token_type_ids= False, return_attention_mask= True, return_tensors= 'pt')"
      ],
      "metadata": {
        "id": "aItWHO4Mm8m0"
      },
      "execution_count": null,
      "outputs": []
    },
    {
      "cell_type": "code",
      "source": [
        "dt_tok = tokenizer.batch_encode_plus(dt['texto'].tolist(), max_length=150, truncation= True, padding=\"max_length\", \n",
        "                                  add_special_tokens= True, return_token_type_ids= False, return_attention_mask= True, return_tensors= 'pt')"
      ],
      "metadata": {
        "id": "lAMTUwnznFCN"
      },
      "execution_count": null,
      "outputs": []
    },
    {
      "cell_type": "code",
      "source": [
        "X = torch.stack((df_tok['input_ids'],df_tok['attention_mask']),dim=0)\n",
        "X_test = torch.stack((dt_tok['input_ids'],dt_tok['attention_mask']),dim=0)"
      ],
      "metadata": {
        "id": "gDiIMiTBnKuG"
      },
      "execution_count": null,
      "outputs": []
    },
    {
      "cell_type": "code",
      "source": [
        "y = torch.Tensor(df['valor'].to_numpy())\n",
        "y_test = torch.Tensor(dt['valor'].to_numpy())"
      ],
      "metadata": {
        "id": "vGN2Gd4Oo4iQ"
      },
      "execution_count": null,
      "outputs": []
    },
    {
      "cell_type": "code",
      "source": [
        "dataset = MyDataset(X,y)\n",
        "teste_dataset = MyDataset(X_test,y_test)"
      ],
      "metadata": {
        "id": "WICfi5P6o85Y"
      },
      "execution_count": null,
      "outputs": []
    },
    {
      "cell_type": "code",
      "source": [
        "train_size = 0.9\n",
        "val_size = 0.1\n",
        "BATCH = 16\n",
        "\n",
        "n_train = int(np.round(dataset.len*train_size))\n",
        "n_val = int(np.round(dataset.len*val_size))"
      ],
      "metadata": {
        "id": "4WdMThsvpINi"
      },
      "execution_count": null,
      "outputs": []
    },
    {
      "cell_type": "code",
      "source": [
        "train_slice, val_slice = torch.utils.data.random_split(dataset,[n_train,n_val])"
      ],
      "metadata": {
        "id": "ajkMaiA3pRis"
      },
      "execution_count": null,
      "outputs": []
    },
    {
      "cell_type": "code",
      "source": [
        "train_loader = torch.utils.data.DataLoader(train_slice,batch_size=BATCH,shuffle=True)\n",
        "val_loader = torch.utils.data.DataLoader(val_slice,batch_size=BATCH,shuffle=True)\n",
        "\n",
        "test_loader = torch.utils.data.DataLoader(teste_dataset,batch_size=1,shuffle=False)"
      ],
      "metadata": {
        "id": "VIf1mln3pTze"
      },
      "execution_count": null,
      "outputs": []
    },
    {
      "cell_type": "code",
      "source": [
        "for param in model.base_model.parameters():\n",
        "    param.requires_grad = False"
      ],
      "metadata": {
        "id": "A_5bdaAApWsF"
      },
      "execution_count": null,
      "outputs": []
    },
    {
      "cell_type": "code",
      "source": [
        "class Modelo(nn.Module):\n",
        "    def __init__(self,num_palavras:int, dimensao:int, pretrained_model):\n",
        "        super(Modelo, self).__init__()\n",
        "        self.pretrained = pretrained_model \n",
        "        self.shape1 = nn.Linear(in_features = num_palavras * dimensao, out_features=768)\n",
        "        self.shape2 = nn.Linear(768, out_features = 1400)\n",
        "        self.shape3 = nn.Linear(1400, out_features = 144)\n",
        "        self.shape4 = nn.Linear(144, out_features = 128)\n",
        "        self.shape5 = nn.Linear(128, out_features = 2)\n",
        "\n",
        "    def forward(self,input_ids,input_masks):\n",
        "        y = self.pretrained(input_ids,input_masks)\n",
        "        y = y[0].flatten(start_dim=1)\n",
        "        y = self.shape1(y)\n",
        "        y = F.relu(self.shape2(y))\n",
        "        y = F.relu(self.shape3(y))\n",
        "        y = F.relu(self.shape4(y))\n",
        "        y = F.dropout(self.shape5(y),p=0.01)\n",
        "        return y"
      ],
      "metadata": {
        "id": "wFfP-D-upoH3"
      },
      "execution_count": null,
      "outputs": []
    },
    {
      "cell_type": "code",
      "source": [
        "modelo = Modelo(150,768,model).to(device)"
      ],
      "metadata": {
        "id": "XkgIASwosE4a"
      },
      "execution_count": null,
      "outputs": []
    },
    {
      "cell_type": "code",
      "source": [
        "epocas = 10\n",
        "steps = 200\n",
        "validation = 20"
      ],
      "metadata": {
        "id": "Z0UQNRVbvg6U"
      },
      "execution_count": null,
      "outputs": []
    },
    {
      "cell_type": "code",
      "source": [
        "loss_fn = nn.CrossEntropyLoss()\n",
        "optim = torch.optim.Adam(modelo.parameters(),lr=1e-6)\n",
        "acc_calc = lambda output,labels : (labels == output.argmax(axis = 1)).sum()\n",
        "scheduler = torch.optim.lr_scheduler.ExponentialLR(optim,0.9992)"
      ],
      "metadata": {
        "id": "U4YXEcJgv1c3"
      },
      "execution_count": null,
      "outputs": []
    },
    {
      "cell_type": "code",
      "source": [
        "\"\"\"\n",
        "def treinamento(epocas,train_loader,val_loader,modelo,optim,loss_fn,scheduler):\n",
        "    for i in range(epocas):\n",
        "      for step, (data,labels) in enumerate(train_loader):\n",
        "        modelo.train()\n",
        "        \n",
        "\n",
        "        input_ids,input_masks = data[:,0,:], data[:,1,:]  \n",
        "\n",
        "        output = modelo(input_ids,input_masks)\n",
        "\n",
        "        #print(output.shape)\n",
        "        #break\n",
        "        optim.zero_grad()\n",
        "        loss_train = loss_fn(output,labels.long())\n",
        "        loss_train.backward()\n",
        "        for step, (val_data,val_labels) in enumerate(val_loader):    \n",
        "          with torch.no_grad():\n",
        "              modelo.eval()\n",
        "\n",
        "              t_input_ids,t_input_masks = val_data[:,0,:], val_data[:,1,:]  \n",
        "\n",
        "              output_val  = modelo(t_input_ids,t_input_masks)\n",
        "              loss_val = loss_fn(output_val,val_labels.long())    \n",
        "        \n",
        "        optim.step()\n",
        "        scheduler.step()\n",
        "\n",
        "      print(f'ÉPOCA: {i} Loss: {loss_train}')  \n",
        "\"\"\"     "
      ],
      "metadata": {
        "id": "Q7uaHzHRvmPO",
        "colab": {
          "base_uri": "https://localhost:8080/",
          "height": 105
        },
        "outputId": "555a9655-cc62-49ff-f42e-acad9a96eead"
      },
      "execution_count": null,
      "outputs": [
        {
          "output_type": "execute_result",
          "data": {
            "text/plain": [
              "\"\\ndef treinamento(epocas,train_loader,val_loader,modelo,optim,loss_fn,scheduler):\\n    for i in range(epocas):\\n      for step, (data,labels) in enumerate(train_loader):\\n        modelo.train()\\n        \\n\\n        input_ids,input_masks = data[:,0,:], data[:,1,:]  \\n\\n        output = modelo(input_ids,input_masks)\\n\\n        #print(output.shape)\\n        #break\\n        optim.zero_grad()\\n        loss_train = loss_fn(output,labels.long())\\n        loss_train.backward()\\n        for step, (val_data,val_labels) in enumerate(val_loader):    \\n          with torch.no_grad():\\n              modelo.eval()\\n\\n              t_input_ids,t_input_masks = val_data[:,0,:], val_data[:,1,:]  \\n\\n              output_val  = modelo(t_input_ids,t_input_masks)\\n              loss_val = loss_fn(output_val,val_labels.long())    \\n        \\n        optim.step()\\n        scheduler.step()\\n\\n      print(f'ÉPOCA: {i} Loss: {loss_train}')  \\n\""
            ],
            "application/vnd.google.colaboratory.intrinsic+json": {
              "type": "string"
            }
          },
          "metadata": {},
          "execution_count": 251
        }
      ]
    },
    {
      "cell_type": "code",
      "source": [
        "#treinamento(epocas=epocas,train_loader=train_loader,val_loader=val_loader,modelo=modelo,optim=optim,loss_fn=loss_fn,scheduler=scheduler)"
      ],
      "metadata": {
        "id": "PMjsvIa7nTLd"
      },
      "execution_count": null,
      "outputs": []
    },
    {
      "cell_type": "code",
      "source": [
        "hist_train_acc = []\n",
        "hist_train_loss = []\n",
        "hist_val_acc = []\n",
        "hist_val_loss = []\n",
        "\n",
        "for i in range(epocas):\n",
        "  n_train_ex = 0\n",
        "  n_val_ex = 0\n",
        "  train_hit = 0\n",
        "  val_hit = 0\n",
        "\n",
        "  n_test_ex = 0\n",
        "  test_hits = 0\n",
        "  test_hit = []\n",
        "  test_loss = 0\n",
        "\n",
        "  for step, (data,labels) in enumerate(train_loader):\n",
        "    modelo.train()\n",
        "    train_loss = 0\n",
        "\n",
        "    input_ids,input_masks = data[:,0,:], data[:,1,:]  \n",
        "\n",
        "    output = modelo(input_ids,input_masks)\n",
        "    \n",
        "    optim.zero_grad()\n",
        "    loss_train = loss_fn(output,labels.long())\n",
        "\n",
        "    train_loss += loss_train.item()\n",
        "    softmax_pred = nn.functional.softmax(output,dim=1)\n",
        "    train_hit +=  acc_calc(softmax_pred,labels)  \n",
        "  \n",
        "    loss_train.backward()\n",
        "    optim.step()\n",
        "\n",
        "    n_train_ex += data.shape[0]\n",
        "\n",
        "    if (step + 1) % steps == 0:\n",
        "          #train_bar.close()\n",
        "          break\n",
        "    \n",
        "    scheduler.step()\n",
        "  \n",
        "  for batch_num, (features,labels) in enumerate(val_loader):\n",
        "        \n",
        "        with torch.no_grad():\n",
        "            val_loss = 0\n",
        "\n",
        "            model.eval()\n",
        "\n",
        "            input_ids,input_masks = features [:,0,:],features[:,1,:]\n",
        "\n",
        "            outputs = modelo(input_ids,input_masks)\n",
        "\n",
        "            loss = loss_fn(outputs,labels.long())\n",
        "\n",
        "            test_loss += loss.item()\n",
        "\n",
        "            softmax_pred = F.softmax(outputs,dim=1)\n",
        "            test_hits += acc_calc(softmax_pred,labels)\n",
        "            test_hit.append(acc_calc(softmax_pred,labels).item())\n",
        "\n",
        "            n_test_ex += features.shape[0]\n",
        "        if (step + 1) % validation == 0:\n",
        "          #train_bar.close()\n",
        "          break\n",
        "  \n",
        "  \n",
        "  for step, (val_data,val_labels) in enumerate(val_loader):    \n",
        "    with torch.no_grad():\n",
        "        modelo.eval()\n",
        "        val_loss = 0\n",
        "\n",
        "        t_input_ids,t_input_masks = val_data[:,0,:], val_data[:,1,:]  \n",
        "\n",
        "        output_val  = modelo(t_input_ids,t_input_masks)\n",
        "        loss_val = loss_fn(output_val,val_labels.long())   \n",
        "\n",
        "        val_loss += loss_val.item()\n",
        "        softmax_pred2 = F.softmax(output_val,dim=1)\n",
        "        val_hit += acc_calc(softmax_pred2,val_labels)\n",
        "\n",
        "        #val_bar.update(1)\n",
        "\n",
        "        n_val_ex += data.shape[0]\n",
        "        if (step + 1) % validation == 0:\n",
        "          #train_bar.close()\n",
        "          break  \n",
        "  \n",
        "\n",
        "  train_acc = torch.true_divide(train_hit,n_train_ex)\n",
        "  test_acc = torch.true_divide(test_hits,n_test_ex)\n",
        "  val_acc = torch.true_divide(val_hit,n_val_ex)\n",
        "\n",
        "  print(f'\\nÉPOCA - {i+1}\\t Train loss: {round(train_loss,4)}\\t Train Acc: {round(train_acc.item(),4)}\\t Val loss:{round(val_loss,4)}\\t Val Acc: {round(test_acc.item(),4)}')\n",
        "  \n",
        "  hist_train_acc.append(train_acc.item())\n",
        "  hist_train_loss.append(train_loss)\n",
        "  hist_val_acc.append(test_acc.item())\n",
        "  hist_val_loss.append(val_loss)"
      ],
      "metadata": {
        "colab": {
          "base_uri": "https://localhost:8080/"
        },
        "id": "8S62z3N2V8YO",
        "outputId": "8acda104-dc89-47fb-8780-c6234d963a23"
      },
      "execution_count": null,
      "outputs": [
        {
          "output_type": "stream",
          "name": "stdout",
          "text": [
            "\n",
            "ÉPOCA - 1\t Train loss: 0.6807\t Train Acc: 0.5136\t Val loss:0.6707\t Val Acc: 0.4268\n",
            "\n",
            "ÉPOCA - 2\t Train loss: 0.656\t Train Acc: 0.7019\t Val loss:0.6734\t Val Acc: 0.7195\n",
            "\n",
            "ÉPOCA - 3\t Train loss: 0.6655\t Train Acc: 0.8198\t Val loss:0.6463\t Val Acc: 0.7805\n",
            "\n",
            "ÉPOCA - 4\t Train loss: 0.6701\t Train Acc: 0.8238\t Val loss:0.6818\t Val Acc: 0.8293\n",
            "\n",
            "ÉPOCA - 5\t Train loss: 0.5565\t Train Acc: 0.8388\t Val loss:0.6115\t Val Acc: 0.7561\n",
            "\n",
            "ÉPOCA - 6\t Train loss: 0.5922\t Train Acc: 0.8509\t Val loss:0.4935\t Val Acc: 0.8049\n",
            "\n",
            "ÉPOCA - 7\t Train loss: 0.6463\t Train Acc: 0.8794\t Val loss:0.7009\t Val Acc: 0.7683\n",
            "\n",
            "ÉPOCA - 8\t Train loss: 0.5905\t Train Acc: 0.8767\t Val loss:0.8089\t Val Acc: 0.8293\n",
            "\n",
            "ÉPOCA - 9\t Train loss: 0.4411\t Train Acc: 0.8862\t Val loss:0.606\t Val Acc: 0.8171\n",
            "\n",
            "ÉPOCA - 10\t Train loss: 0.7051\t Train Acc: 0.8862\t Val loss:0.5222\t Val Acc: 0.7927\n"
          ]
        }
      ]
    },
    {
      "cell_type": "code",
      "source": [
        "hist_epoca = np.arange(1,epocas+1,1)\n",
        "hist_train = pd.DataFrame({\"Precisão\":hist_train_acc,\"Época\":hist_epoca})\n",
        "hist_val = pd.DataFrame({\"Precisão\":hist_val_acc,\"Época\":hist_epoca})\n",
        "plt.rcParams[\"figure.figsize\"] = [9.00, 7.00]\n",
        "plt.rcParams[\"figure.autolayout\"] = True\n",
        "plt.rcParams[\"axes.titleweight\"] = 10\n",
        "plt.rcParams[\"font.style\"] = 'normal'\n",
        "plt.rcParams['font.size'] = 14\n",
        "fig, ax = plt.subplots()\n",
        "ax = sns.lineplot(x = \"Época\", y = \"Precisão\",data= hist_train)\n",
        "ax.set_facecolor('#EAEAEA')\n",
        "ax1 = sns.lineplot(x = \"Época\", y = \"Precisão\",data= hist_val)\n",
        "plt.legend(labels=['Treinamento', 'Validação'])\n",
        "plt.yticks(np.arange(0.45,1,0.05))\n",
        "x = np.arange(1,epocas+1,1)\n",
        "#plt.xticks(x,hist_train['Época'])\n",
        "plt.xticks(np.arange(1,epocas+1,1))\n",
        "plt.title(\"Precisão x Época\")\n",
        "plt.grid()\n",
        "#plt.suptitle(\"Precisão x Época\",fontweight='bold')\n",
        "plt.show()"
      ],
      "metadata": {
        "colab": {
          "base_uri": "https://localhost:8080/",
          "height": 505
        },
        "id": "gCn1teeTcgV5",
        "outputId": "8db3f116-110b-4332-eed7-41674afff0ab"
      },
      "execution_count": null,
      "outputs": [
        {
          "output_type": "display_data",
          "data": {
            "text/plain": [
              "<Figure size 648x504 with 1 Axes>"
            ],
            "image/png": "[encoded data removed]"
          },
          "metadata": {
            "needs_background": "light"
          }
        }
      ]
    },
    {
      "cell_type": "code",
      "source": [
        "hist_train_l = pd.DataFrame({\"Loss\":hist_train_loss,\"Epoca\":hist_epoca})\n",
        "hist_val_l = pd.DataFrame({\"Loss\":hist_val_loss,\"Epoca\":hist_epoca})\n",
        "plt.rcParams[\"figure.figsize\"] = [9.00, 7.00]\n",
        "plt.rcParams[\"figure.autolayout\"] = True\n",
        "plt.rcParams[\"axes.titleweight\"] = 10\n",
        "plt.rcParams['font.size'] = 14\n",
        "fig, ax = plt.subplots()\n",
        "ax = sns.lineplot(x = \"Epoca\", y = \"Loss\",data= hist_train_l)\n",
        "ax.set_facecolor('#EAEAEA')\n",
        "ax1 = sns.lineplot(x = \"Epoca\", y = \"Loss\",data= hist_val_l)\n",
        "plt.title(\"Loss x Época\")\n",
        "x = np.arange(1,11,1)\n",
        "#plt.xticks(x,hist_epoca)\n",
        "plt.xticks(np.arange(1,epocas+1,1))\n",
        "#plt.yticks(np.arange(0.1,0.8,0.05))\n",
        "plt.grid()\n",
        "plt.show()"
      ],
      "metadata": {
        "colab": {
          "base_uri": "https://localhost:8080/",
          "height": 505
        },
        "id": "mdCpc090c0Ld",
        "outputId": "44dd6785-31c4-4a7f-ecd8-d4592761acab"
      },
      "execution_count": null,
      "outputs": [
        {
          "output_type": "display_data",
          "data": {
            "text/plain": [
              "<Figure size 648x504 with 1 Axes>"
            ],
            "image/png": "[encoded data removed]"
          },
          "metadata": {
            "needs_background": "light"
          }
        }
      ]
    },
    {
      "cell_type": "code",
      "source": [
        "\n",
        "n_test_ex = 0\n",
        "test_hits = 0\n",
        "test_hit = []\n",
        "\n",
        "test_loss = 0\n",
        "\n",
        "for batch_num, (features,labels) in enumerate(test_loader):\n",
        "        \n",
        "        with torch.no_grad():\n",
        "            val_loss = 0\n",
        "\n",
        "            model.eval()\n",
        "\n",
        "            input_ids,input_masks = features [:,0,:],features[:,1,:]\n",
        "\n",
        "            outputs = modelo(input_ids,input_masks)\n",
        "\n",
        "            loss = loss_fn(outputs,labels.long())\n",
        "\n",
        "            test_loss += loss.item()\n",
        "\n",
        "            softmax_pred = F.softmax(outputs,dim=1)\n",
        "            test_hits += acc_calc(softmax_pred,labels)\n",
        "            test_hit.append(acc_calc(softmax_pred,labels).item())\n",
        "\n",
        "            n_test_ex += features.shape[0]\n",
        "        \n"
      ],
      "metadata": {
        "id": "_h0JOD9L8qs9"
      },
      "execution_count": null,
      "outputs": []
    },
    {
      "cell_type": "code",
      "source": [
        "test_acc = torch.true_divide(test_hits,n_test_ex)\n",
        "test_acc"
      ],
      "metadata": {
        "colab": {
          "base_uri": "https://localhost:8080/"
        },
        "id": "5UF_6VWtsLR4",
        "outputId": "f351e397-623c-42cc-d94a-e1b570f39fa2"
      },
      "execution_count": null,
      "outputs": [
        {
          "output_type": "execute_result",
          "data": {
            "text/plain": [
              "tensor(0.8750, device='cuda:0')"
            ]
          },
          "metadata": {},
          "execution_count": 257
        }
      ]
    },
    {
      "cell_type": "code",
      "source": [
        "test_hit,y_test"
      ],
      "metadata": {
        "colab": {
          "base_uri": "https://localhost:8080/"
        },
        "id": "jHFOzKEpsUIa",
        "outputId": "20d6b5c1-c602-48db-a673-e83c762448c0"
      },
      "execution_count": null,
      "outputs": [
        {
          "output_type": "execute_result",
          "data": {
            "text/plain": [
              "([1, 1, 0, 1, 1, 1, 1, 1], tensor([1., 1., 1., 1., 0., 0., 0., 0.]))"
            ]
          },
          "metadata": {},
          "execution_count": 258
        }
      ]
    },
    {
      "cell_type": "code",
      "source": [
        "def prediction(text:str) -> str:\n",
        "    text = prepare(text)\n",
        "    batch = tokenizer(text,padding='max_length',max_length = 150,truncation = True,return_tensors='pt').to(device)\n",
        "    disciplinas = {0:\"Eletrica\",1:\"Eletrônica\"}\n",
        "    with torch.no_grad():\n",
        "        outputs = modelo(batch['input_ids'],batch['attention_mask'])\n",
        "        #print(outputs)\n",
        "        \n",
        "        predictions = F.softmax(outputs,dim=1)\n",
        "        #print(predictions)\n",
        "        labels = torch.argmax(predictions,dim=1)\n",
        "        print(labels.item())\n",
        "        return disciplinas.get(labels.item())  "
      ],
      "metadata": {
        "id": "4NK9jYTn-NV0"
      },
      "execution_count": null,
      "outputs": []
    },
    {
      "cell_type": "code",
      "source": [
        "text = dt['texto'][0]\n",
        "batch = tokenizer(text,padding=True,truncation=True,max_length=150,return_tensors=\"pt\").to(device)"
      ],
      "metadata": {
        "id": "XilRvg8Y_V6P"
      },
      "execution_count": null,
      "outputs": []
    },
    {
      "cell_type": "code",
      "source": [
        "n_test_ex = 0\n",
        "test_hits = 0\n",
        "test_hit = []\n",
        "\n",
        "test_loss = 0\n",
        "for ep in range(epocas):\n",
        "  for batch_num, (features,labels) in enumerate(val_loader):\n",
        "        \n",
        "        with torch.no_grad():\n",
        "            val_loss = 0\n",
        "\n",
        "            model.eval()\n",
        "\n",
        "            input_ids,input_masks = features [:,0,:],features[:,1,:]\n",
        "\n",
        "            outputs = modelo(input_ids,input_masks)\n",
        "\n",
        "            loss = loss_fn(outputs,labels.long())\n",
        "\n",
        "            test_loss += loss.item()\n",
        "\n",
        "            softmax_pred = F.softmax(outputs,dim=1)\n",
        "            test_hits += acc_calc(softmax_pred,labels)\n",
        "            test_hit.append(acc_calc(softmax_pred,labels).item())\n",
        "\n",
        "            n_test_ex += features.shape[0]\n",
        "        #print(torch.argmax(softmax_pred))\n",
        "  test_acc = torch.true_divide(test_hits,n_test_ex)\n",
        "  print(test_acc)\n"
      ],
      "metadata": {
        "colab": {
          "base_uri": "https://localhost:8080/"
        },
        "id": "DB2cjfD9cG69",
        "outputId": "e0eae1ff-8926-40d2-8dc0-d38203dec4b3"
      },
      "execution_count": null,
      "outputs": [
        {
          "output_type": "stream",
          "name": "stdout",
          "text": [
            "tensor(0.8171, device='cuda:0')\n",
            "tensor(0.8171, device='cuda:0')\n",
            "tensor(0.8171, device='cuda:0')\n",
            "tensor(0.8171, device='cuda:0')\n",
            "tensor(0.8171, device='cuda:0')\n",
            "tensor(0.8171, device='cuda:0')\n",
            "tensor(0.8171, device='cuda:0')\n",
            "tensor(0.8171, device='cuda:0')\n",
            "tensor(0.8171, device='cuda:0')\n",
            "tensor(0.8171, device='cuda:0')\n"
          ]
        }
      ]
    },
    {
      "cell_type": "code",
      "source": [
        "test_acc = torch.true_divide(test_hits,n_test_ex)\n",
        "test_acc"
      ],
      "metadata": {
        "colab": {
          "base_uri": "https://localhost:8080/"
        },
        "id": "sKotsS_scLfN",
        "outputId": "76c5a738-ab51-441a-cd6d-f089b0e28c41"
      },
      "execution_count": null,
      "outputs": [
        {
          "output_type": "execute_result",
          "data": {
            "text/plain": [
              "tensor(0.8171, device='cuda:0')"
            ]
          },
          "metadata": {},
          "execution_count": 262
        }
      ]
    },
    {
      "cell_type": "code",
      "source": [
        "for label,text in zip(y_test,dt['texto']):\n",
        "  print(prediction(text=text),\" \",label)\n"
      ],
      "metadata": {
        "colab": {
          "base_uri": "https://localhost:8080/"
        },
        "id": "5iTVGSVI_D5t",
        "outputId": "31e622b2-fa60-4267-ca91-4e1ce785cb3b"
      },
      "execution_count": null,
      "outputs": [
        {
          "output_type": "stream",
          "name": "stdout",
          "text": [
            "1\n",
            "Eletrônica   tensor(1.)\n",
            "1\n",
            "Eletrônica   tensor(1.)\n",
            "0\n",
            "Eletrica   tensor(1.)\n",
            "1\n",
            "Eletrônica   tensor(1.)\n",
            "0\n",
            "Eletrica   tensor(0.)\n",
            "0\n",
            "Eletrica   tensor(0.)\n",
            "0\n",
            "Eletrica   tensor(0.)\n",
            "0\n",
            "Eletrica   tensor(0.)\n"
          ]
        }
      ]
    },
    {
      "cell_type": "code",
      "source": [
        "teste_1 = \"\"\"O objetivo deste trabalho é propor um algoritmo para realizar a \n",
        "identificação de padrões na vocalização suína, visando determinar o nível do \n",
        "bem-estar do animal. Tal análise foi proposta uma vez que o bem-estar animal é \n",
        "um assunto cada vez mais abordado no mundo todo, principalmente quando os animais \n",
        "são criados para o abate. Dessa forma, a criação de um método em que haja o mínimo \n",
        "de contato com os animais se faz importante, evitando que tal contato altere o \n",
        "comportamento do animal e, conseqüentemente, o resultado da análise de seu bem-estar. \n",
        "Por essas características, foi proposto um método de análise dos sons emitidos pelos \n",
        "suínos com base na utilização de uma Rede Neural Artificial do tipo Radial Basis Function,\n",
        " como elementos de treinamento e operação um conjunto de características extraídas através\n",
        " ormada Discreta Wavelet de sinais sonoros pré-gravados. As características obtidas dos\n",
        "sinais foram as energias das bandas críticas relativas à Escala Bark e a diferença \n",
        "entre as energias das bandas adjacentes, além dimensão fractal do sinal. Através\n",
        "desse método foram analisados dois tipos de sinais sonoros: a vocalização de\n",
        "leitões saudáveis e de leitões acometidos por uma doença chamada Artrite Traumática; \n",
        " e a vocalização de suínos adultos em situações de conforto e desconforto. Os \n",
        "resultados demonstram que a análise proposta atingiu bons patamares de acerto na\n",
        "determinação do bem-estar do animal\"\"\"\n",
        "#eletronica 1"
      ],
      "metadata": {
        "id": "JNAy7LmjgNjV"
      },
      "execution_count": null,
      "outputs": []
    },
    {
      "cell_type": "code",
      "source": [
        "prediction(teste_1)"
      ],
      "metadata": {
        "colab": {
          "base_uri": "https://localhost:8080/",
          "height": 53
        },
        "id": "eudZ1JYkgYvV",
        "outputId": "59119d4b-6b8a-4b82-bc13-462620b14fcd"
      },
      "execution_count": null,
      "outputs": [
        {
          "output_type": "stream",
          "name": "stdout",
          "text": [
            "1\n"
          ]
        },
        {
          "output_type": "execute_result",
          "data": {
            "text/plain": [
              "'Eletrônica'"
            ],
            "application/vnd.google.colaboratory.intrinsic+json": {
              "type": "string"
            }
          },
          "metadata": {},
          "execution_count": 265
        }
      ]
    },
    {
      "cell_type": "code",
      "source": [
        "teste_2 = \"\"\"Produzindo inicialmente motores elétricos, a WEG ampliou \n",
        "suas atividades a partir da década de 80, com a produção de componentes \n",
        "eletroeletrônicos, produtos para automação industrial, transformadores de\n",
        " força e distribuição, tintas líquidas e em pó e vernizes eletroisolantes. \n",
        " A empresa se consolidou não só como fabricante de motores, mas como fornecedora \n",
        " de sistemas elétricos industriais completos.\"\"\"\n",
        " #eletrica 0"
      ],
      "metadata": {
        "id": "L4xeXZwKgP38"
      },
      "execution_count": null,
      "outputs": []
    },
    {
      "cell_type": "code",
      "source": [
        "prediction(teste_1)"
      ],
      "metadata": {
        "colab": {
          "base_uri": "https://localhost:8080/",
          "height": 53
        },
        "id": "jXOfUfL0gcet",
        "outputId": "35d624f5-8430-4f4a-88aa-d5741e700236"
      },
      "execution_count": null,
      "outputs": [
        {
          "output_type": "stream",
          "name": "stdout",
          "text": [
            "1\n"
          ]
        },
        {
          "output_type": "execute_result",
          "data": {
            "text/plain": [
              "'Eletrônica'"
            ],
            "application/vnd.google.colaboratory.intrinsic+json": {
              "type": "string"
            }
          },
          "metadata": {},
          "execution_count": 267
        }
      ]
    },
    {
      "cell_type": "code",
      "source": [
        "teste_3 = \"\"\"Numa definição mais abrangente, podemos dizer que a eletrônica é o \n",
        "ramo da ciência que estuda o uso de circuitos formados por componentes elétricos\n",
        " e eletrônicos, com o objetivo principal de representar, armazenar, transmitir \n",
        " ou processar informações além do controle de processos e servomecanismos. Sob \n",
        " esta ótica, também se pode afirmar que os circuitos internos dos computadores \n",
        " (que armazenam e processam informações), os sistemas de telecomunicações (que \n",
        "transmitem informações), os diversos tipos de sensores e transdutores (que representam\n",
        "grandezas físicas - informações - sob forma de sinais elétricos) estão, todos, dentro \n",
        "da área de interesse da eletrônica.\"\"\"\n",
        "#eletronica1"
      ],
      "metadata": {
        "id": "18wG3gDigTuk"
      },
      "execution_count": null,
      "outputs": []
    },
    {
      "cell_type": "code",
      "source": [
        "prediction(teste_1)"
      ],
      "metadata": {
        "colab": {
          "base_uri": "https://localhost:8080/",
          "height": 53
        },
        "id": "pTnca-3Fgc_u",
        "outputId": "bfd01b7d-b9e0-4be5-fe15-7b8851068418"
      },
      "execution_count": null,
      "outputs": [
        {
          "output_type": "stream",
          "name": "stdout",
          "text": [
            "1\n"
          ]
        },
        {
          "output_type": "execute_result",
          "data": {
            "text/plain": [
              "'Eletrônica'"
            ],
            "application/vnd.google.colaboratory.intrinsic+json": {
              "type": "string"
            }
          },
          "metadata": {},
          "execution_count": 269
        }
      ]
    },
    {
      "cell_type": "code",
      "source": [
        "teste_4 = \"\"\"projeto visa nova abordagem sistema vigilância móvel autônomo. pulseira \n",
        "biométrica coleta dados sobre batimento cardíaco usuário envia, via bluetooth, módulo\n",
        "processamento, smartphone sistema operacional android, faz análise destes batimentos \n",
        "cardíacos define usuário passando alguma situação risco morte, extremo estresse. \n",
        "smartphone escreve, periodicamente, informações tempo imediato sobre usuário, localização\n",
        "ica batimentos cardíacos, banco dados nuvem que, vez, contém informações pessoais usuário, \n",
        "tipo sanguíneo, telefone contato emergencial, alergias, outros. premissa dados nuvem\n",
        " acessíveis todo momento servidor externo servirem base socorro médico emergencial,\n",
        "  seja, sistema visa prover auxílio imediato maneira proativa autônoma, modo preservar \n",
        "  vidas, sendo baixo custo alcançável grande parte população. realizados diversos testes \n",
        "  simulações demonstrando adequabilidade sistema proposto situações problema apresentadas\"\"\"\n",
        "#eletronica 1"
      ],
      "metadata": {
        "id": "CVJT4AhvgWJW"
      },
      "execution_count": null,
      "outputs": []
    },
    {
      "cell_type": "code",
      "source": [
        "prediction(teste_1)"
      ],
      "metadata": {
        "colab": {
          "base_uri": "https://localhost:8080/",
          "height": 53
        },
        "id": "QThPcx2vgdru",
        "outputId": "05763d7f-3b5c-4a0b-975c-1041241d5923"
      },
      "execution_count": null,
      "outputs": [
        {
          "output_type": "stream",
          "name": "stdout",
          "text": [
            "1\n"
          ]
        },
        {
          "output_type": "execute_result",
          "data": {
            "text/plain": [
              "'Eletrônica'"
            ],
            "application/vnd.google.colaboratory.intrinsic+json": {
              "type": "string"
            }
          },
          "metadata": {},
          "execution_count": 271
        }
      ]
    }
  ]
}