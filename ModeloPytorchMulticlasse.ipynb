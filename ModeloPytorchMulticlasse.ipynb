{
  "cells": [
    {
      "cell_type": "code",
      "execution_count": null,
      "metadata": {
        "id": "rixmVHtHtQJk"
      },
      "outputs": [],
      "source": [
        "%%capture\n",
        "import numpy as np\n",
        "import torch\n",
        "import torch.nn as nn\n",
        "import torch.optim as optim\n",
        "import torch.nn.functional as F\n",
        "!pip install nltk\n",
        "import nltk\n",
        "nltk.download('stopwords')\n",
        "from nltk.corpus import stopwords\n",
        "import seaborn as sns\n",
        "import time\n",
        "import pandas as pd\n",
        "import re\n",
        "import string\n",
        "import matplotlib.pyplot as plt\n",
        "from collections import Counter\n",
        "from torch.utils.data import DataLoader, TensorDataset\n",
        "\n",
        "!pip install transformers\n",
        "\n",
        "from transformers import  AutoTokenizer, BertTokenizer,  AutoModel\n",
        "\n",
        "device = torch.device('cuda' if torch.cuda.is_available() else 'cpu')\n",
        "\n",
        "print(device) #Todos os valore e vetores são carregados na gpu, caso ela esteja disponível"
      ]
    },
    {
      "cell_type": "code",
      "execution_count": null,
      "metadata": {
        "id": "t27qtmU5tXcz"
      },
      "outputs": [],
      "source": [
        "%%capture\n",
        "tokenizer = AutoTokenizer.from_pretrained('neuralmind/bert-base-portuguese-cased')\n",
        "model = AutoModel.from_pretrained('neuralmind/bert-base-portuguese-cased').to(device)"
      ]
    },
    {
      "cell_type": "code",
      "execution_count": null,
      "metadata": {
        "id": "_WOq1SRBPu_U"
      },
      "outputs": [],
      "source": [
        "model"
      ]
    },
    {
      "cell_type": "code",
      "execution_count": null,
      "metadata": {
        "id": "Ce9jDJpLtaY8"
      },
      "outputs": [],
      "source": [
        "def get_data(nome_arquivo,shuffle):\n",
        "    ds = pd.read_csv(nome_arquivo,encoding=\"utf-8\")\n",
        "    if shuffle:\n",
        "        ds = ds.sample(frac=1)\n",
        "    ds['texto'] = ds['texto'].apply(str)\n",
        "    return ds\n",
        "\n",
        "stop = set(stopwords.words(\"portuguese\"))\n",
        "\n",
        "def remove_stopwords(text):\n",
        "    filtered_words = [word.lower() for word in text.split() if word.lower() not in stop]\n",
        "    return \" \".join(filtered_words)\n",
        "\n",
        "def remove_URL(text):\n",
        "    url = re.compile(r\"https?://\\S+|www\\.\\S+\")\n",
        "    return url.sub(r\"\",text)\n",
        "\n",
        "def remove_punct(text):\n",
        "    translator = str.maketrans(\"\",\"\",'!\"\"#$%&\\'()*+,./:;<=>?@[\\\\]^_`{|}~º')\n",
        "    translator = str.maketrans(\"\",\"\",'!\"\"#$%&\\'()*+,./:;<=>?@[\\\\]^_`{|}~º')\n",
        "    return text.translate(translator)\n",
        "\n",
        "def remove_numbers(text):\n",
        "    result = ''.join([i for i in text if not i.isdigit()])\n",
        "    return result\n",
        "\n",
        "def remove_hifen(text):\n",
        "    translator = str.maketrans('-',' ')\n",
        "    return text.translate(translator)\n",
        "\n",
        "pattern = re.compile(r\"https?//(\\S+|www)\\.\\S+\")\n",
        "def pat(df_t):\n",
        "    for t in df_t.texto:\n",
        "        matches = pattern.findall(t)\n",
        "        for match in  matches:\n",
        "            print(t)\n",
        "            print(match)\n",
        "            print(pattern.sub(r\"\",t))        \n",
        "        if len(matches)> 0:\n",
        "            break\n",
        "\n",
        "def make_test(df_t):\n",
        "    df_t[\"texto\"] = df_t.texto.map(remove_URL)\n",
        "    df_t[\"texto\"] = df_t.texto.map(remove_punct)\n",
        "    df_t[\"texto\"] = df_t.texto.map(remove_hifen)\n",
        "    #df_t[\"texto\"] = df_t.texto.map(remove_numbers)\n",
        "    df_t[\"texto\"] = df_t.texto.map(remove_stopwords)\n",
        "\n",
        "def prepare(teste):\n",
        "    teste = remove_URL(teste)\n",
        "    teste = remove_punct(teste)\n",
        "    teste = remove_hifen(teste)\n",
        "    teste = remove_stopwords(teste)    \n",
        "    return teste\n",
        "\n",
        "def counter_word(text_col):\n",
        "    count = Counter()\n",
        "    for text in text_col.values:\n",
        "        for word in text.split():\n",
        "            count[word] += 1\n",
        "    return count\n",
        "\n",
        "#counter = counter_word(df.texto)  \n",
        "\n",
        "def prepare(teste):\n",
        "    teste = remove_URL(teste)\n",
        "    #teste = remove_punct(teste)\n",
        "    teste = remove_hifen(teste)\n",
        "    teste = remove_stopwords(teste)    \n",
        "    return teste"
      ]
    },
    {
      "cell_type": "code",
      "execution_count": null,
      "metadata": {
        "id": "sbG-uCgpteO0"
      },
      "outputs": [],
      "source": [
        "class MyDataset(torch.utils.data.Dataset):\n",
        "\n",
        "    def __init__(self,X,y):\n",
        "        self.X = X\n",
        "        self.X = self.X.to(device)\n",
        "\n",
        "        self.y = y\n",
        "        self.y = self.y.to(device)\n",
        "\n",
        "        self.len = len(y)\n",
        "\n",
        "    def __len__(self):\n",
        "        return self.len\n",
        "    \n",
        "    def __getitem__(self,idx):\n",
        "        return self.X[:,idx],self.y[idx]"
      ]
    },
    {
      "cell_type": "code",
      "execution_count": null,
      "metadata": {
        "id": "vMQpAyKjthbE"
      },
      "outputs": [],
      "source": [
        "train_size = 0.9\n",
        "val_size = 0.1\n",
        "BATCH = 18"
      ]
    },
    {
      "cell_type": "code",
      "execution_count": null,
      "metadata": {
        "id": "AXG_Xfpxtls9"
      },
      "outputs": [],
      "source": [
        "class ModeloMultiClass(nn.Module):\n",
        "    def __init__(self,num_palavras:int, dimensao:int, classes:int, pretrained_model):\n",
        "\n",
        "        super(ModeloMultiClass, self).__init__()\n",
        "        self.pretrained = pretrained_model \n",
        "        self.shape1 = nn.Linear(in_features = num_palavras * dimensao, out_features=768)\n",
        "        self.shape2 = nn.Linear(768, out_features = 128)\n",
        "        self.dense1 = nn.ReLU()\n",
        "        self.shape5 = nn.Linear(128, out_features = classes)\n",
        "        self.dense6 = nn.Dropout(0.01)\n",
        "\n",
        "    def forward(self,input_ids,input_masks):\n",
        "        \"\"\"\n",
        "        y = self.pretrained(input_ids,input_masks)\n",
        "        y = y[0].flatten(start_dim=1)\n",
        "        y = self.shape1(y)\n",
        "        y = self.shape2(y)\n",
        "        y = self.dense1(y)\n",
        "        y = self.shape5(y)\n",
        "        y = self.dense6(y)  \n",
        "        \"\"\"\n",
        "        y = self.pretrained(input_ids,input_masks)\n",
        "        y = y[0].flatten(start_dim=1)\n",
        "        y = F.relu(self.shape1(y))\n",
        "        y = F.relu(self.shape2(y))\n",
        "        y = F.dropout(self.shape5(y),p=0.01)\n",
        "        return y"
      ]
    },
    {
      "cell_type": "code",
      "execution_count": null,
      "metadata": {
        "colab": {
          "base_uri": "https://localhost:8080/",
          "height": 87
        },
        "id": "_HoqVM7mugYP",
        "outputId": "962242a2-3f4f-40ba-8505-b3708f79ea27"
      },
      "outputs": [
        {
          "output_type": "execute_result",
          "data": {
            "text/plain": [
              "'\\n    super(ModeloMultiClass, self).__init__()\\n    self.pretrained = pretrained_model \\n    self.shape1 = nn.Linear(in_features = num_palavras * dimensao, out_features=768)\\n    self.shape2 = nn.Linear(768, out_features = 1400)\\n    self.shape3 = nn.Linear(1400, out_features = 144)\\n    self.shape4 = nn.Linear(144, out_features = 128)\\n    self.shape5 = nn.Linear(128, out_features = classes)\\n\\ndef forward(self,input_ids,input_masks):\\n    y = self.pretrained(input_ids,input_masks)\\n    y = y[0].flatten(start_dim=1)\\n    y = F.relu(self.shape1(y))\\n    y = F.relu(self.shape2(y))\\n    y = F.relu(self.shape3(y))\\n    y = F.relu(self.shape4(y))\\n    y = F.dropout(self.shape5(y),p=0.01)\\n    return y\\n'"
            ],
            "application/vnd.google.colaboratory.intrinsic+json": {
              "type": "string"
            }
          },
          "metadata": {},
          "execution_count": 8
        }
      ],
      "source": [
        "    \"\"\"\n",
        "        super(ModeloMultiClass, self).__init__()\n",
        "        self.pretrained = pretrained_model \n",
        "        self.shape1 = nn.Linear(in_features = num_palavras * dimensao, out_features=768)\n",
        "        self.shape2 = nn.Linear(768, out_features = 1400)\n",
        "        self.shape3 = nn.Linear(1400, out_features = 144)\n",
        "        self.shape4 = nn.Linear(144, out_features = 128)\n",
        "        self.shape5 = nn.Linear(128, out_features = classes)\n",
        "\n",
        "    def forward(self,input_ids,input_masks):\n",
        "        y = self.pretrained(input_ids,input_masks)\n",
        "        y = y[0].flatten(start_dim=1)\n",
        "        y = F.relu(self.shape1(y))\n",
        "        y = F.relu(self.shape2(y))\n",
        "        y = F.relu(self.shape3(y))\n",
        "        y = F.relu(self.shape4(y))\n",
        "        y = F.dropout(self.shape5(y),p=0.01)\n",
        "        return y\n",
        "    \"\"\""
      ]
    },
    {
      "cell_type": "code",
      "execution_count": null,
      "metadata": {
        "id": "HMqpKbgovfBp"
      },
      "outputs": [],
      "source": [
        "for param in model.base_model.parameters():\n",
        "    param.requires_grad = False"
      ]
    },
    {
      "cell_type": "code",
      "execution_count": null,
      "metadata": {
        "id": "FxNJmr8Mtq_G"
      },
      "outputs": [],
      "source": [
        "modelo = ModeloMultiClass(150,768,9,model).to(device)"
      ]
    },
    {
      "cell_type": "code",
      "execution_count": null,
      "metadata": {
        "id": "ZtryhxY2to5F"
      },
      "outputs": [],
      "source": [
        "train = 'https://raw.githubusercontent.com/mateusns12/Modelos-de-Classificacao/master/Modelo3/train.csv'\n",
        "eval = 'https://raw.githubusercontent.com/mateusns12/Modelos-de-Classificacao/master/Modelo3/eval.csv'"
      ]
    },
    {
      "cell_type": "code",
      "execution_count": null,
      "metadata": {
        "id": "hZcb2LBEtu2e"
      },
      "outputs": [],
      "source": [
        "df = get_data(train,1)\n",
        "dt = get_data(eval,0)\n",
        "\n",
        "pat(df)\n",
        "make_test(df)\n",
        "pat(dt)\n",
        "make_test(dt)\n",
        "\n",
        "df_tok = tokenizer.batch_encode_plus(df['texto'].tolist(), max_length=150, truncation= True, padding=\"max_length\", \n",
        "                                  add_special_tokens= True, return_token_type_ids= False, return_attention_mask= True, return_tensors= 'pt')\n",
        "\n",
        "dt_tok = tokenizer.batch_encode_plus(dt['texto'].tolist(), max_length=150, truncation= True, padding=\"max_length\", \n",
        "                                  add_special_tokens= True, return_token_type_ids= False, return_attention_mask= True, return_tensors= 'pt')\n",
        "\n",
        "X = torch.stack((df_tok['input_ids'],df_tok['attention_mask']),dim=0)\n",
        "X_test = torch.stack((dt_tok['input_ids'],dt_tok['attention_mask']),dim=0)\n",
        "\n",
        "y = torch.Tensor(df['valor'].to_numpy())\n",
        "y_test = torch.Tensor(dt['valor'].to_numpy())\n",
        "\n",
        "dataset = MyDataset(X,y)\n",
        "teste_dataset = MyDataset(X_test,y_test)\n",
        "\n",
        "n_train = int(np.round(dataset.len*train_size))\n",
        "n_val = int(np.round(dataset.len*val_size))\n",
        "\n",
        "train_slice, val_slice = torch.utils.data.random_split(dataset,[n_train,n_val])\n",
        "\n",
        "train_loader = torch.utils.data.DataLoader(train_slice,batch_size=BATCH,shuffle=True)\n",
        "val_loader = torch.utils.data.DataLoader(val_slice,batch_size=BATCH,shuffle=True)\n",
        "\n",
        "test_loader = torch.utils.data.DataLoader(teste_dataset,batch_size=1,shuffle=False)"
      ]
    },
    {
      "cell_type": "code",
      "execution_count": null,
      "metadata": {
        "colab": {
          "base_uri": "https://localhost:8080/"
        },
        "id": "O15wcVdsJRhz",
        "outputId": "4c6c3d95-98a8-4d38-96bf-55f9264fdc45"
      },
      "outputs": [
        {
          "output_type": "execute_result",
          "data": {
            "text/plain": [
              "(1420, 2)"
            ]
          },
          "metadata": {},
          "execution_count": 13
        }
      ],
      "source": [
        "df.shape"
      ]
    },
    {
      "cell_type": "code",
      "execution_count": null,
      "metadata": {
        "colab": {
          "base_uri": "https://localhost:8080/"
        },
        "id": "Q1JSLtIaJlrS",
        "outputId": "2ca2ef0a-ca38-43a8-f03a-94852a6e5918"
      },
      "outputs": [
        {
          "output_type": "stream",
          "name": "stdout",
          "text": [
            "200  textos de Eletronica\n",
            "198  textos de Direito\n",
            "200  textos de Eletrica\n",
            "103  textos de Odontologia\n",
            "120  textos de Computação\n",
            "199  textos de Geografia\n",
            "200  textos de Ambiental\n",
            "200  textos de Mecanica\n"
          ]
        }
      ],
      "source": [
        "print((df.valor==1).sum(),\" textos de Eletronica\")#eletronica\n",
        "print((df.valor==2).sum(),\" textos de Direito\")#direito\n",
        "print((df.valor==3).sum(),\" textos de Eletrica\")#eletrica\n",
        "print((df.valor==4).sum(),\" textos de Odontologia\")#odontologia\n",
        "print((df.valor==5).sum(),\" textos de Computação\")#computação\n",
        "print((df.valor==6).sum(),\" textos de Geografia\")#geografia\n",
        "print((df.valor==7).sum(),\" textos de Ambiental\")#ambiental\n",
        "print((df.valor==8).sum(),\" textos de Mecanica\")#mecanica"
      ]
    },
    {
      "cell_type": "code",
      "execution_count": null,
      "metadata": {
        "colab": {
          "base_uri": "https://localhost:8080/"
        },
        "id": "vutER0-ZxXQt",
        "outputId": "b542712a-76a7-4ed8-e6e4-45b1c036ecea"
      },
      "outputs": [
        {
          "output_type": "execute_result",
          "data": {
            "text/plain": [
              "torch.Size([1420])"
            ]
          },
          "metadata": {},
          "execution_count": 15
        }
      ],
      "source": [
        "y.size()"
      ]
    },
    {
      "cell_type": "code",
      "execution_count": null,
      "metadata": {
        "id": "p0bkSNpQuDhh"
      },
      "outputs": [],
      "source": [
        "loss_fn = nn.CrossEntropyLoss()\n",
        "optim = torch.optim.Adam(modelo.parameters(),lr=1e-6)\n",
        "acc_calc = lambda output,labels : (labels == output.argmax(axis = 1)).sum()\n",
        "scheduler = torch.optim.lr_scheduler.ExponentialLR(optim,0.9992)\n"
      ]
    },
    {
      "cell_type": "code",
      "execution_count": null,
      "metadata": {
        "id": "TI4FonMpv-bm"
      },
      "outputs": [],
      "source": [
        "epocas = 40\n",
        "steps = 200\n",
        "validation = 20"
      ]
    },
    {
      "cell_type": "code",
      "execution_count": null,
      "metadata": {
        "colab": {
          "base_uri": "https://localhost:8080/"
        },
        "id": "uE0mI23QuLa7",
        "outputId": "5a01cb26-ba5a-4067-d8e0-2114fcda1be9"
      },
      "outputs": [
        {
          "output_type": "stream",
          "name": "stdout",
          "text": [
            "\n",
            "ÉPOCA - 1\t Train loss: 2.0746\t Train Acc: 0.2019\t Val loss:2.146\t Val Acc: 0.2639\n",
            "\n",
            "ÉPOCA - 2\t Train loss: 2.025\t Train Acc: 0.4116\t Val loss:2.0273\t Val Acc: 0.3889\n",
            "\n",
            "ÉPOCA - 3\t Train loss: 1.5831\t Train Acc: 0.6244\t Val loss:1.7803\t Val Acc: 0.5347\n",
            "\n",
            "ÉPOCA - 4\t Train loss: 1.5394\t Train Acc: 0.741\t Val loss:1.5113\t Val Acc: 0.6042\n",
            "\n",
            "ÉPOCA - 5\t Train loss: 1.3612\t Train Acc: 0.7786\t Val loss:1.623\t Val Acc: 0.6319\n",
            "\n",
            "ÉPOCA - 6\t Train loss: 1.1877\t Train Acc: 0.8122\t Val loss:1.6455\t Val Acc: 0.6181\n",
            "\n",
            "ÉPOCA - 7\t Train loss: 1.1369\t Train Acc: 0.8075\t Val loss:1.3723\t Val Acc: 0.6667\n",
            "\n",
            "ÉPOCA - 8\t Train loss: 0.8141\t Train Acc: 0.8232\t Val loss:1.1754\t Val Acc: 0.6458\n",
            "\n",
            "ÉPOCA - 9\t Train loss: 0.9501\t Train Acc: 0.8255\t Val loss:1.4818\t Val Acc: 0.6667\n",
            "\n",
            "ÉPOCA - 10\t Train loss: 0.9227\t Train Acc: 0.849\t Val loss:1.0514\t Val Acc: 0.6806\n",
            "\n",
            "ÉPOCA - 11\t Train loss: 0.9403\t Train Acc: 0.8451\t Val loss:0.936\t Val Acc: 0.6875\n",
            "\n",
            "ÉPOCA - 12\t Train loss: 0.7022\t Train Acc: 0.856\t Val loss:1.2791\t Val Acc: 0.6736\n",
            "\n",
            "ÉPOCA - 13\t Train loss: 0.939\t Train Acc: 0.8709\t Val loss:0.9737\t Val Acc: 0.6875\n",
            "\n",
            "ÉPOCA - 14\t Train loss: 0.6727\t Train Acc: 0.8772\t Val loss:1.2004\t Val Acc: 0.6806\n",
            "\n",
            "ÉPOCA - 15\t Train loss: 0.6345\t Train Acc: 0.8803\t Val loss:1.1833\t Val Acc: 0.6806\n",
            "\n",
            "ÉPOCA - 16\t Train loss: 0.8356\t Train Acc: 0.8905\t Val loss:1.0057\t Val Acc: 0.6875\n",
            "\n",
            "ÉPOCA - 17\t Train loss: 0.7301\t Train Acc: 0.892\t Val loss:1.2446\t Val Acc: 0.6667\n",
            "\n",
            "ÉPOCA - 18\t Train loss: 0.7637\t Train Acc: 0.9006\t Val loss:1.0965\t Val Acc: 0.6736\n",
            "\n",
            "ÉPOCA - 19\t Train loss: 0.6137\t Train Acc: 0.9061\t Val loss:0.9905\t Val Acc: 0.6736\n",
            "\n",
            "ÉPOCA - 20\t Train loss: 0.6802\t Train Acc: 0.9006\t Val loss:1.096\t Val Acc: 0.6667\n",
            "\n",
            "ÉPOCA - 21\t Train loss: 0.587\t Train Acc: 0.9061\t Val loss:0.8661\t Val Acc: 0.6944\n",
            "\n",
            "ÉPOCA - 22\t Train loss: 0.786\t Train Acc: 0.921\t Val loss:0.9851\t Val Acc: 0.6736\n",
            "\n",
            "ÉPOCA - 23\t Train loss: 0.7078\t Train Acc: 0.9178\t Val loss:0.9165\t Val Acc: 0.6875\n",
            "\n",
            "ÉPOCA - 24\t Train loss: 0.6014\t Train Acc: 0.9092\t Val loss:1.0659\t Val Acc: 0.6875\n",
            "\n",
            "ÉPOCA - 25\t Train loss: 0.4693\t Train Acc: 0.9163\t Val loss:0.77\t Val Acc: 0.6806\n",
            "\n",
            "ÉPOCA - 26\t Train loss: 0.5033\t Train Acc: 0.9233\t Val loss:1.1715\t Val Acc: 0.6944\n",
            "\n",
            "ÉPOCA - 27\t Train loss: 0.7495\t Train Acc: 0.9249\t Val loss:1.2894\t Val Acc: 0.6597\n",
            "\n",
            "ÉPOCA - 28\t Train loss: 0.5056\t Train Acc: 0.9351\t Val loss:0.8735\t Val Acc: 0.6944\n",
            "\n",
            "ÉPOCA - 29\t Train loss: 0.5442\t Train Acc: 0.9358\t Val loss:0.9988\t Val Acc: 0.6875\n",
            "\n",
            "ÉPOCA - 30\t Train loss: 0.4387\t Train Acc: 0.9304\t Val loss:1.0304\t Val Acc: 0.6736\n",
            "\n",
            "ÉPOCA - 31\t Train loss: 0.3932\t Train Acc: 0.9241\t Val loss:1.2937\t Val Acc: 0.6944\n",
            "\n",
            "ÉPOCA - 32\t Train loss: 0.6796\t Train Acc: 0.9296\t Val loss:1.0457\t Val Acc: 0.6736\n",
            "\n",
            "ÉPOCA - 33\t Train loss: 0.4385\t Train Acc: 0.9374\t Val loss:1.022\t Val Acc: 0.7014\n",
            "\n",
            "ÉPOCA - 34\t Train loss: 0.474\t Train Acc: 0.9374\t Val loss:1.0707\t Val Acc: 0.6806\n",
            "\n",
            "ÉPOCA - 35\t Train loss: 0.5477\t Train Acc: 0.9358\t Val loss:1.0909\t Val Acc: 0.7014\n",
            "\n",
            "ÉPOCA - 36\t Train loss: 0.5234\t Train Acc: 0.9351\t Val loss:0.8384\t Val Acc: 0.7014\n",
            "\n",
            "ÉPOCA - 37\t Train loss: 0.5717\t Train Acc: 0.9413\t Val loss:1.1654\t Val Acc: 0.6944\n",
            "\n",
            "ÉPOCA - 38\t Train loss: 0.5327\t Train Acc: 0.9382\t Val loss:0.9558\t Val Acc: 0.6875\n",
            "\n",
            "ÉPOCA - 39\t Train loss: 0.4857\t Train Acc: 0.9444\t Val loss:0.8294\t Val Acc: 0.7014\n",
            "\n",
            "ÉPOCA - 40\t Train loss: 0.6154\t Train Acc: 0.9405\t Val loss:0.9663\t Val Acc: 0.6875\n"
          ]
        }
      ],
      "source": [
        "hist_train_acc = []\n",
        "hist_train_loss = []\n",
        "hist_val_acc = []\n",
        "hist_val_loss = []\n",
        "\n",
        "for i in range(epocas):\n",
        "  n_train_ex = 0\n",
        "  n_val_ex = 0\n",
        "\n",
        "  train_hit = 0\n",
        "  val_hit = 0\n",
        "  for step, (data,labels) in enumerate(train_loader):\n",
        "    modelo.train()\n",
        "    train_loss = 0\n",
        "\n",
        "    input_ids,input_masks = data[:,0,:], data[:,1,:]  \n",
        "\n",
        "    output = modelo(input_ids,input_masks)\n",
        "    \n",
        "    optim.zero_grad()\n",
        "    loss_train = loss_fn(output,labels.long())\n",
        "\n",
        "    train_loss += loss_train.item()\n",
        "    softmax_pred = nn.functional.softmax(output,dim=1)\n",
        "    train_hit +=  acc_calc(softmax_pred,labels)  \n",
        "  \n",
        "    loss_train.backward()\n",
        "    optim.step()\n",
        "\n",
        "    n_train_ex += data.shape[0]\n",
        "\n",
        "    if (step + 1) % steps == 0:\n",
        "          #train_bar.close()\n",
        "          break\n",
        "    \n",
        "    scheduler.step()\n",
        "  \n",
        "    \n",
        "  for step, (val_data,val_labels) in enumerate(val_loader):    \n",
        "    with torch.no_grad():\n",
        "        modelo.eval()\n",
        "        val_loss = 0\n",
        "\n",
        "        t_input_ids,t_input_masks = val_data[:,0,:], val_data[:,1,:]  \n",
        "\n",
        "        output_val  = modelo(t_input_ids,t_input_masks)\n",
        "        loss_val = loss_fn(output_val,val_labels.long())   \n",
        "\n",
        "        val_loss += loss_val.item()\n",
        "        softmax_pred2 = nn.functional.softmax(output_val,dim=1)\n",
        "        val_hit += acc_calc(softmax_pred2,val_labels)\n",
        "\n",
        "        #val_bar.update(1)\n",
        "\n",
        "        n_val_ex += data.shape[0]\n",
        "        if (step + 1) % validation == 0:\n",
        "          #train_bar.close()\n",
        "          break   \n",
        "\n",
        "  train_acc = torch.true_divide(train_hit,n_train_ex)\n",
        "  val_acc = torch.true_divide(val_hit,n_val_ex)\n",
        "\n",
        "  print(f'\\nÉPOCA - {i+1}\\t Train loss: {round(train_loss,4)}\\t Train Acc: {round(train_acc.item(),4)}\\t Val loss:{round(val_loss,4)}\\t Val Acc: {round(val_acc.item(),4)}')\n",
        "  \n",
        "  hist_train_acc.append(train_acc.item())\n",
        "  hist_train_loss.append(train_loss)\n",
        "  hist_val_acc.append(val_acc.item())\n",
        "  hist_val_loss.append(val_loss)"
      ]
    },
    {
      "cell_type": "code",
      "execution_count": null,
      "metadata": {
        "id": "nF5922NCIHNX"
      },
      "outputs": [],
      "source": [
        "hist_epoca = np.arange(1,epocas+1,1)"
      ]
    },
    {
      "cell_type": "code",
      "execution_count": null,
      "metadata": {
        "id": "kd5sHPrOIQk4",
        "colab": {
          "base_uri": "https://localhost:8080/"
        },
        "outputId": "3de1b682-fa52-4e79-f764-c2700996d039"
      },
      "outputs": [
        {
          "output_type": "execute_result",
          "data": {
            "text/plain": [
              "40"
            ]
          },
          "metadata": {},
          "execution_count": 20
        }
      ],
      "source": [
        "hist_epoca.size"
      ]
    },
    {
      "cell_type": "code",
      "execution_count": null,
      "metadata": {
        "id": "aGyUpWgFHs9b",
        "colab": {
          "base_uri": "https://localhost:8080/",
          "height": 505
        },
        "outputId": "f5917e3e-60cf-4f67-d424-eb2ae681ad26"
      },
      "outputs": [
        {
          "output_type": "display_data",
          "data": {
            "text/plain": [
              "<Figure size 648x504 with 1 Axes>"
            ],
            "image/png": "[encoded data removed]"
          },
          "metadata": {
            "needs_background": "light"
          }
        }
      ],
      "source": [
        "hist_train = pd.DataFrame({\"Precisão\":hist_train_acc,\"Época\":hist_epoca})\n",
        "hist_val = pd.DataFrame({\"Precisão\":hist_val_acc,\"Época\":hist_epoca})\n",
        "plt.rcParams[\"figure.figsize\"] = [9.00, 7.00]\n",
        "plt.rcParams[\"figure.autolayout\"] = True\n",
        "plt.rcParams[\"axes.titleweight\"] = 10\n",
        "plt.rcParams[\"font.style\"] = 'normal'\n",
        "plt.rcParams['font.size'] = 14\n",
        "fig, ax = plt.subplots()\n",
        "ax = sns.lineplot(x = \"Época\", y = \"Precisão\",data= hist_train)\n",
        "ax.set_facecolor('#EAEAEA')\n",
        "ax1 = sns.lineplot(x = \"Época\", y = \"Precisão\",data= hist_val)\n",
        "plt.legend(labels=['Treinamento', 'Validação'])\n",
        "plt.yticks(np.arange(0.25,1,0.05))\n",
        "x = np.arange(1,epocas+1,1)\n",
        "#plt.xticks(x,hist_train['Época'])\n",
        "plt.xticks(np.arange(2,epocas+1,2))\n",
        "plt.title(\"Precisão x Época\")\n",
        "plt.grid()\n",
        "#plt.suptitle(\"Precisão x Época\",fontweight='bold')\n",
        "plt.show()"
      ]
    },
    {
      "cell_type": "code",
      "execution_count": null,
      "metadata": {
        "id": "r7bSYh6ZIcl6",
        "colab": {
          "base_uri": "https://localhost:8080/",
          "height": 505
        },
        "outputId": "753a1562-79cd-4b34-9811-0cb2a1e60623"
      },
      "outputs": [
        {
          "output_type": "display_data",
          "data": {
            "text/plain": [
              "<Figure size 648x504 with 1 Axes>"
            ],
            "image/png": "[encoded data removed]"
          },
          "metadata": {
            "needs_background": "light"
          }
        }
      ],
      "source": [
        "\n",
        "hist_train_l = pd.DataFrame({\"Loss\":hist_train_loss,\"Epoca\":hist_epoca})\n",
        "hist_val_l = pd.DataFrame({\"Loss\":hist_val_loss,\"Epoca\":hist_epoca})\n",
        "plt.rcParams[\"figure.figsize\"] = [9.00, 7.00]\n",
        "plt.rcParams[\"figure.autolayout\"] = True\n",
        "plt.rcParams[\"axes.titleweight\"] = 10\n",
        "plt.rcParams['font.size'] = 14\n",
        "fig, ax = plt.subplots()\n",
        "ax = sns.lineplot(x = \"Epoca\", y = \"Loss\",data= hist_train_l)\n",
        "ax.set_facecolor('#EAEAEA')\n",
        "ax1 = sns.lineplot(x = \"Epoca\", y = \"Loss\",data= hist_val_l)\n",
        "plt.title(\"Loss x Época\")\n",
        "x = np.arange(1,11,1)\n",
        "#plt.xticks(x,hist_epoca)\n",
        "plt.xticks(np.arange(2,epocas+1,2))\n",
        "#plt.yticks(np.arange(0.1,0.8,0.05))\n",
        "plt.grid()\n",
        "plt.show()"
      ]
    },
    {
      "cell_type": "code",
      "execution_count": null,
      "metadata": {
        "id": "DUMBoS-zBqYU"
      },
      "outputs": [],
      "source": [
        "disciplinas = {1:'Eletronica',2:\"Direito\",3:\"Eletrica\",4:'Odontologia',5:'Computação',6:'Geografia',7:'Ambiental',8:'Mecanica'}"
      ]
    },
    {
      "cell_type": "code",
      "execution_count": null,
      "metadata": {
        "id": "PCKskM1euMm8"
      },
      "outputs": [],
      "source": [
        "def predictions(text:str) -> str:\n",
        "    text = prepare(text)\n",
        "    batch = tokenizer(text,padding='max_length',max_length = 150,truncation = True,return_tensors='pt').to(device)\n",
        "    \n",
        "    with torch.no_grad():\n",
        "        outputs = modelo(batch['input_ids'],batch['attention_mask'])\n",
        "        #print(outputs)\n",
        "        \n",
        "        predictions = F.softmax(outputs,dim=1)\n",
        "        #print(predictions)\n",
        "        labels = torch.argmax(predictions,dim=1)\n",
        "        #print(labels.item())\n",
        "        return disciplinas.get(labels.item())  "
      ]
    },
    {
      "cell_type": "code",
      "execution_count": null,
      "metadata": {
        "id": "RjEoskz9uS0U",
        "colab": {
          "base_uri": "https://localhost:8080/"
        },
        "outputId": "fe0ba583-491f-4567-a5e1-efd8f9866946"
      },
      "outputs": [
        {
          "output_type": "stream",
          "name": "stdout",
          "text": [
            "Previsto: Eletronica\t Correto: Eletronica\n",
            "Previsto: Eletronica\t Correto: Eletronica\n",
            "Previsto: Direito\t Correto: Direito\n",
            "Previsto: Direito\t Correto: Direito\n",
            "Previsto: Eletrica\t Correto: Eletrica\n",
            "Previsto: Eletrica\t Correto: Eletrica\n",
            "Previsto: Odontologia\t Correto: Odontologia\n",
            "Previsto: Odontologia\t Correto: Odontologia\n",
            "Previsto: Computação\t Correto: Computação\n",
            "Previsto: Computação\t Correto: Computação\n",
            "Previsto: Geografia\t Correto: Geografia\n",
            "Previsto: Geografia\t Correto: Geografia\n",
            "Previsto: Ambiental\t Correto: Ambiental\n",
            "Previsto: Ambiental\t Correto: Ambiental\n",
            "Previsto: Ambiental\t Correto: Mecanica\n",
            "Previsto: Mecanica\t Correto: Mecanica\n"
          ]
        }
      ],
      "source": [
        "for label,text in zip(y_test,dt['texto']):\n",
        "  res = predictions(text=text)\n",
        "  print(f'Previsto: {res}\\t Correto: {disciplinas.get(label.item())}')"
      ]
    },
    {
      "cell_type": "code",
      "execution_count": null,
      "metadata": {
        "id": "CH-QwlgBBIqX"
      },
      "outputs": [],
      "source": [
        "n_test_ex = 0\n",
        "test_hits = 0\n",
        "test_hit = []\n",
        "\n",
        "test_loss = 0\n",
        "\n",
        "for batch_num, (features,labels) in enumerate(test_loader):\n",
        "        \n",
        "        with torch.no_grad():\n",
        "            val_loss = 0\n",
        "\n",
        "            model.eval()\n",
        "\n",
        "            input_ids,input_masks = features [:,0,:],features[:,1,:]\n",
        "\n",
        "            outputs = modelo(input_ids,input_masks)\n",
        "\n",
        "            loss = loss_fn(outputs,labels.long())\n",
        "\n",
        "            test_loss += loss.item()\n",
        "\n",
        "            softmax_pred = F.softmax(outputs,dim=1)\n",
        "            test_hits += acc_calc(softmax_pred,labels)\n",
        "            test_hit.append(acc_calc(softmax_pred,labels).item())\n",
        "\n",
        "            n_test_ex += features.shape[0]\n"
      ]
    },
    {
      "cell_type": "code",
      "execution_count": null,
      "metadata": {
        "id": "a1UIvTXLBQTh",
        "colab": {
          "base_uri": "https://localhost:8080/"
        },
        "outputId": "1d5c0d71-9747-40e6-8d1f-8b12b8bc1dad"
      },
      "outputs": [
        {
          "output_type": "execute_result",
          "data": {
            "text/plain": [
              "tensor(0.9375, device='cuda:0')"
            ]
          },
          "metadata": {},
          "execution_count": 27
        }
      ],
      "source": [
        "test_acc = torch.true_divide(test_hits,n_test_ex)\n",
        "test_acc"
      ]
    },
    {
      "cell_type": "code",
      "execution_count": null,
      "metadata": {
        "id": "UCMfJsQJBR_f",
        "colab": {
          "base_uri": "https://localhost:8080/"
        },
        "outputId": "d58fdbf0-8dc4-46b4-80fe-4d825c6c57dc"
      },
      "outputs": [
        {
          "output_type": "execute_result",
          "data": {
            "text/plain": [
              "([1, 1, 1, 1, 1, 1, 1, 1, 1, 1, 1, 1, 1, 1, 0, 1],\n",
              " tensor([1., 1., 2., 2., 3., 3., 4., 4., 5., 5., 6., 6., 7., 7., 8., 8.]))"
            ]
          },
          "metadata": {},
          "execution_count": 28
        }
      ],
      "source": [
        "test_hit,y_test"
      ]
    }
  ],
  "metadata": {
    "accelerator": "GPU",
    "colab": {
      "provenance": []
    },
    "gpuClass": "standard",
    "kernelspec": {
      "display_name": "Python 3",
      "name": "python3"
    },
    "language_info": {
      "name": "python"
    }
  },
  "nbformat": 4,
  "nbformat_minor": 0
}