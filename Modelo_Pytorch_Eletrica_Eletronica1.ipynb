{
  "cells": [
    {
      "cell_type": "markdown",
      "source": [
        "# CLASSIFICAÇÃO DE RESUMOS ACADÊMICOS POR DISCIPLINA UTILIZANDO PYTORCH \n",
        "\n",
        "# Parte 2 - Construção do Algoritmo\n"
      ],
      "metadata": {
        "id": "q6cbubzfNPzQ"
      }
    },
    {
      "cell_type": "markdown",
      "source": [
        "---"
      ],
      "metadata": {
        "id": "i6FKQNFRNSkB"
      }
    },
    {
      "cell_type": "markdown",
      "source": [
        "# Bibliotecas Necessárias"
      ],
      "metadata": {
        "id": "LGf1HQdrefpl"
      }
    },
    {
      "cell_type": "code",
      "execution_count": null,
      "metadata": {
        "id": "9qG-fuoSOVCv"
      },
      "outputs": [],
      "source": [
        "%%capture\n",
        "import numpy as np\n",
        "import torch\n",
        "import torch.nn as nn\n",
        "import torch.optim as optim\n",
        "import torch.nn.functional as F\n",
        "\n",
        "import torchvision\n",
        "import torchvision.transforms as transforms\n",
        "from torch.utils.data import DataLoader, TensorDataset\n",
        "\n",
        "!pip install transformers\n",
        "from transformers import AutoModelForSequenceClassification, AutoTokenizer, BertTokenizer, BertForSequenceClassification\n",
        "\n",
        "!pip install nltk\n",
        "import nltk\n",
        "nltk.download('stopwords')\n",
        "from nltk.corpus import stopwords\n",
        "\n",
        "import seaborn as sns\n",
        "import time\n",
        "import pandas as pd\n",
        "import re\n",
        "import string\n",
        "import matplotlib.pyplot as plt\n",
        "from collections import Counter\n",
        "from tqdm import tqdm\n",
        "\n",
        "device = torch.device('cuda' if torch.cuda.is_available() else 'cpu')\n",
        "\n",
        "print(device) #Todos os valore e vetores são carregados na gpu, caso ela esteja disponível"
      ]
    },
    {
      "cell_type": "markdown",
      "source": [
        "### Funções de preparação do Dataset\n",
        "- Limpeza dos textos\n",
        "- Remoção de urls, hífen, símbolos\n",
        "- Remoção de Stop Words"
      ],
      "metadata": {
        "id": "ZHJeM1uqfB23"
      }
    },
    {
      "cell_type": "code",
      "execution_count": null,
      "metadata": {
        "id": "mHh0HL9DPOSu"
      },
      "outputs": [],
      "source": [
        "def get_data(nome_arquivo,shuffle):\n",
        "    ds = pd.read_csv(nome_arquivo,encoding=\"utf-8\")\n",
        "    if shuffle:\n",
        "        ds = ds.sample(frac=1)\n",
        "    ds['texto'] = ds['texto'].apply(str)\n",
        "    return ds\n",
        "\n",
        "stop = set(stopwords.words(\"portuguese\"))\n",
        "\n",
        "def remove_stopwords(text):\n",
        "    filtered_words = [word.lower() for word in text.split() if word.lower() not in stop]\n",
        "    return \" \".join(filtered_words)\n",
        "\n",
        "def remove_URL(text):\n",
        "    url = re.compile(r\"https?://\\S+|www\\.\\S+\")\n",
        "    return url.sub(r\"\",text)\n",
        "\n",
        "def remove_punct(text):\n",
        "    translator = str.maketrans(\"\",\"\",'!\"\"#$%&\\'()*+,./:;<=>?@[\\\\]^_`{|}~º')\n",
        "    translator = str.maketrans(\"\",\"\",'!\"\"#$%&\\'()*+,./:;<=>?@[\\\\]^_`{|}~º')\n",
        "    return text.translate(translator)\n",
        "\n",
        "def remove_numbers(text):\n",
        "    result = ''.join([i for i in text if not i.isdigit()])\n",
        "    return result\n",
        "\n",
        "def remove_hifen(text):\n",
        "    translator = str.maketrans('-',' ')\n",
        "    return text.translate(translator)\n",
        "\n",
        "pattern = re.compile(r\"https?//(\\S+|www)\\.\\S+\")\n",
        "def pat(df_t):\n",
        "    for t in df_t.texto:\n",
        "        matches = pattern.findall(t)\n",
        "        for match in  matches:\n",
        "            print(t)\n",
        "            print(match)\n",
        "            print(pattern.sub(r\"\",t))        \n",
        "        if len(matches)> 0:\n",
        "            break\n",
        "\n",
        "def make_test(df_t):\n",
        "    df_t[\"texto\"] = df_t.texto.map(remove_URL)\n",
        "    df_t[\"texto\"] = df_t.texto.map(remove_punct)\n",
        "    df_t[\"texto\"] = df_t.texto.map(remove_hifen)\n",
        "    #df_t[\"texto\"] = df_t.texto.map(remove_numbers)\n",
        "    df_t[\"texto\"] = df_t.texto.map(remove_stopwords)\n",
        "\n",
        "def prepare(teste):\n",
        "    teste = remove_URL(teste)\n",
        "    teste = remove_punct(teste)\n",
        "    teste = remove_hifen(teste)\n",
        "    teste = remove_stopwords(teste)    \n",
        "    return teste\n",
        "\n",
        "def counter_word(text_col):\n",
        "    count = Counter()\n",
        "    for text in text_col.values:\n",
        "        for word in text.split():\n",
        "            count[word] += 1\n",
        "    return count\n",
        "\n",
        "#counter = counter_word(df.texto)  \n",
        "\n",
        "def prepare(teste):\n",
        "    teste = remove_URL(teste)\n",
        "    #teste = remove_punct(teste)\n",
        "    teste = remove_hifen(teste)\n",
        "    teste = remove_stopwords(teste)    \n",
        "    return teste"
      ]
    },
    {
      "cell_type": "markdown",
      "source": [
        "# Carregamento do Dataset\n",
        "- Carregamento\n",
        "- Embaralhamento\n",
        "- Conversão texto para String \n",
        "- Limpeza e formatação do texto\n",
        "\n",
        "### O Dataset utilizado pode ser encontrado em:\n",
        " - [train.csv](https://github.com/mateusns12/Modelos-de-Classificacao/blob/master/Modelo-Eletrica-Eletronica/train.csv)\n",
        " - [eval.csv](https://github.com/mateusns12/Modelos-de-Classificacao/blob/master/Modelo-Eletrica-Eletronica/eval.csv)"
      ],
      "metadata": {
        "id": "cbjc_9adhyuL"
      }
    },
    {
      "cell_type": "markdown",
      "source": [
        "Serão comparadas duas disciplinas extremamente parecidas entre si, Elétrica e Eletrônica. O modelo será testado em condições onde o contexto é semelhante e poucas palavras definem a classe da sentença."
      ],
      "metadata": {
        "id": "yf6bTOOfM29G"
      }
    },
    {
      "cell_type": "code",
      "execution_count": null,
      "metadata": {
        "id": "6n7l68AiPQvJ"
      },
      "outputs": [],
      "source": [
        "train_csv = 'https://raw.githubusercontent.com/mateusns12/Modelos-de-Classificacao/master/Modelo-Eletrica-Eletronica/train.csv'\n",
        "eval_csv = 'https://raw.githubusercontent.com/mateusns12/Modelos-de-Classificacao/master/Modelo-Eletrica-Eletronica/eval.csv'"
      ]
    },
    {
      "cell_type": "markdown",
      "source": [
        "## As discussões sobre o dataset foram realizadas na parte 1 do trabalho, na análise exploratória dos dados, que pode ser vista no link abaixo:\n",
        "\n",
        "[Parte 1 - Análise Exploratória dos Dados](https://colab.research.google.com/drive/1OvT62-UZio9h5sHZG7mMxO3tOkyuB0aG?usp=sharing)"
      ],
      "metadata": {
        "id": "rVPqyCb-Nhsd"
      }
    },
    {
      "cell_type": "markdown",
      "source": [
        "### Carregamento dos Datasets de Treinamento e Teste, embaralhamento e aplicação das funções de limpeza"
      ],
      "metadata": {
        "id": "_91zz8WSiLY7"
      }
    },
    {
      "cell_type": "code",
      "execution_count": null,
      "metadata": {
        "id": "m8TtJG-gPS6f"
      },
      "outputs": [],
      "source": [
        "df = get_data(train_csv,1)\n",
        "dt = get_data(eval_csv,0)"
      ]
    },
    {
      "cell_type": "code",
      "execution_count": null,
      "metadata": {
        "id": "_FE6XsFjPUu0"
      },
      "outputs": [],
      "source": [
        "pat(df)\n",
        "make_test(df)\n",
        "pat(dt)\n",
        "make_test(dt)"
      ]
    },
    {
      "cell_type": "code",
      "execution_count": null,
      "metadata": {
        "id": "7_vuLO-7PXq1"
      },
      "outputs": [],
      "source": [
        "size = 0.8\n",
        "train_size = int(df.shape[0]*size)\n",
        "train_df = df[:train_size]\n",
        "val_df = df[train_size:]"
      ]
    },
    {
      "cell_type": "markdown",
      "source": [
        "# Modelo BERT"
      ],
      "metadata": {
        "id": "EufWsGTUiwS3"
      }
    },
    {
      "cell_type": "markdown",
      "source": [
        "BERT, ou Bidirection Encoder Representation for Transformers, é um modelo Transformer desenvolvido com Pytorch, utilizando diversas camadas de Embeddings.\n",
        "### Embeddings\n",
        "Embeddings são representações vetoriais de cada palavra, onde através de diversas dimensões, um a palavra é clasificada em uma escala de -1 a 1 de acordo com as features do corpus de treinamento.\n",
        "Um exemplo famoso é do palavra \"Rainha\". Em uma escala de -1 a 1, onde -1 seria o gênero masculino, e 1 o gênero feminino. Nesta escala, seria atribuida a palavra \"Rainha\", um vetor, onde a posição relativa à gênero teria valor 0.95, pois está mais próxima do gênero feminino.\n",
        "\n",
        "No modelo BERT, essas camadas conseguem gerar um vetores para features, probabilidades, e principalmente a posição da palavra na sentença. O encoding positional permite ao modelo o processamento paralelo da sentença, de forma sequencial ou reversa, aumentando muito o desempenho se comparado a redes neurais sequenciais como RNN e LSTMS."
      ],
      "metadata": {
        "id": "WtGy32skjV1u"
      }
    },
    {
      "cell_type": "markdown",
      "source": [
        "## Fine Tunning\n",
        "\n",
        "Neste trabalho será abordado o processo de Fine-Tunning do modelo BERTimbau, para se adequar a Tarefa de Classificação de Disciplinas com o dataset de textos de Elétrica e Eletrônica."
      ],
      "metadata": {
        "id": "5u1qYcbQm5OL"
      }
    },
    {
      "cell_type": "markdown",
      "source": [
        "# Definido o Modelo e o Tokenizador BERT\n",
        "\n",
        "O Modelo BERT utilizado é o BERTimbau, um modelo brasileiro, pré-treinado pela NeuralMind AI, em português.\n",
        "\n",
        "O modelo está hospedado na HuggingFace Library, uma biblioteca de modelos transformers que contém diversas classes já pré configuradas para diferentes tarefas de NLP. \n",
        "\n",
        "Seguindo a documentação, será utilizada a classe AutoModelForSequenceClassification. Esta classe contém em seu layer final uma camada softmax, que retornará um valor próximo do label definido para cada disciplina, e a função de perda CrossEntropyLoss.\n",
        "\n",
        "Utilizando esta classe, não é necessário construir o modelo manualmente."
      ],
      "metadata": {
        "id": "2vLhovWniEQQ"
      }
    },
    {
      "cell_type": "code",
      "execution_count": null,
      "metadata": {
        "id": "vSxl8M28V_I9"
      },
      "outputs": [],
      "source": [
        "%%capture\n",
        "tokenizer = AutoTokenizer.from_pretrained('neuralmind/bert-base-portuguese-cased')\n",
        "model = AutoModelForSequenceClassification.from_pretrained('neuralmind/bert-base-portuguese-cased').to(device)"
      ]
    },
    {
      "cell_type": "markdown",
      "source": [
        "### Tokenização do Dataset de Treinamento e Teste\n",
        "Utilizando o método batch_encode_plus é feita a tokenização do das sentenças em pares, desta forma é possível utilizar o dataset com a superclasse Dataset, do Pytorch, necessária no treinamento."
      ],
      "metadata": {
        "id": "eTmKQYwXqPJQ"
      }
    },
    {
      "cell_type": "code",
      "execution_count": null,
      "metadata": {
        "id": "0jojKXVIwrPJ"
      },
      "outputs": [],
      "source": [
        "df_tok = tokenizer.batch_encode_plus(df['texto'].tolist(), max_length=150, truncation= True, padding=\"max_length\", \n",
        "                                  add_special_tokens= True, return_token_type_ids= False, return_attention_mask= True, return_tensors= 'pt')"
      ]
    },
    {
      "cell_type": "code",
      "execution_count": null,
      "metadata": {
        "id": "tqW2learLhYc"
      },
      "outputs": [],
      "source": [
        "dt_tok = tokenizer.batch_encode_plus(dt['texto'].tolist(), max_length=150, truncation= True, padding=\"max_length\", \n",
        "                                  add_special_tokens= True, return_token_type_ids= False, return_attention_mask= True, return_tensors= 'pt')"
      ]
    },
    {
      "cell_type": "code",
      "execution_count": null,
      "metadata": {
        "colab": {
          "base_uri": "https://localhost:8080/"
        },
        "id": "DHJA7r1JyhnJ",
        "outputId": "ef660475-76e7-4259-ac59-1217c3cfa179"
      },
      "outputs": [
        {
          "output_type": "stream",
          "name": "stdout",
          "text": [
            "torch.Size([820, 150]) torch.Size([820, 150])\n"
          ]
        }
      ],
      "source": [
        "print(df_tok['input_ids'].shape,df_tok['attention_mask'].shape)"
      ]
    },
    {
      "cell_type": "markdown",
      "source": [
        "Os modelos de atenção necessitam de uma transformação na forma dos tensores para criar os embeddings. A função torch.stack() concatena dois ou mais tensores na dimensão requerida pelo modelo. Neste trabalho é utilizada a dimensão 0."
      ],
      "metadata": {
        "id": "dO3elfeFussD"
      }
    },
    {
      "cell_type": "code",
      "execution_count": null,
      "metadata": {
        "id": "XeMjCtXwy6BM"
      },
      "outputs": [],
      "source": [
        "X = torch.stack((df_tok['input_ids'],df_tok['attention_mask']),dim=0)"
      ]
    },
    {
      "cell_type": "code",
      "execution_count": null,
      "metadata": {
        "id": "m26qcjpGLmLt"
      },
      "outputs": [],
      "source": [
        "X_test = torch.stack((dt_tok['input_ids'],dt_tok['attention_mask']),dim=0)"
      ]
    },
    {
      "cell_type": "markdown",
      "source": [
        "Os valores inteiros dos Labels do Dataset são convertidos para variaveis do tipo double 32 bits utilizando Numpy."
      ],
      "metadata": {
        "id": "3YribpU2veC_"
      }
    },
    {
      "cell_type": "code",
      "execution_count": null,
      "metadata": {
        "id": "6f-TBGdVz7fm"
      },
      "outputs": [],
      "source": [
        "y = torch.Tensor(df['valor'].to_numpy())"
      ]
    },
    {
      "cell_type": "code",
      "execution_count": null,
      "metadata": {
        "id": "dY1c76MpLxBW"
      },
      "outputs": [],
      "source": [
        "y_test = torch.Tensor(dt['valor'].to_numpy())"
      ]
    },
    {
      "cell_type": "code",
      "execution_count": null,
      "metadata": {
        "colab": {
          "base_uri": "https://localhost:8080/"
        },
        "id": "L2TWGTQFL1Af",
        "outputId": "a54df286-101b-4229-ad82-491499af4b11"
      },
      "outputs": [
        {
          "output_type": "execute_result",
          "data": {
            "text/plain": [
              "tensor([1., 1., 1., 1., 0., 0., 0., 0.])"
            ]
          },
          "metadata": {},
          "execution_count": 74
        }
      ],
      "source": [
        "y_test"
      ]
    },
    {
      "cell_type": "markdown",
      "source": [
        "## As Classes Dataset e Dataloader\n",
        "Até aqui o conteúdo do dataset foi transformado para se adequar aos layers dp Pytorch. Agora são necessários métodos que permitam obter as informações do dataset durante o treinamento e validação.\n",
        "\n",
        "Pytorch provê uma superclasse Dataset, a qual o dataset customizado deve herdar os métodos. Os métodos len e getitem permitem que o DataLoader consiga separar as sequências em batches, ou seja conjuntos, de dimensões iguais, realizando um novo embaralhamento.\n",
        "\n",
        "O objeto gerado pelo DataLoader é utilizado no treinamento, através de um iterador, a cada passo retorna um batch, com suas features e labels, que são direcionadas para o modelo."
      ],
      "metadata": {
        "id": "caGw_-1kv0qB"
      }
    },
    {
      "cell_type": "code",
      "execution_count": null,
      "metadata": {
        "id": "S9KR4Cy-0L3H"
      },
      "outputs": [],
      "source": [
        "class MyDataset(torch.utils.data.Dataset):\n",
        "\n",
        "    def __init__(self,X,y):\n",
        "        self.X = X\n",
        "        self.X = self.X.to(device)\n",
        "\n",
        "        self.y = y\n",
        "        self.y = self.y.to(device)\n",
        "\n",
        "        self.len = len(y)\n",
        "\n",
        "    def __len__(self):\n",
        "        return self.len\n",
        "    \n",
        "    def __getitem__(self,idx):\n",
        "        return self.X[:,idx],self.y[idx]"
      ]
    },
    {
      "cell_type": "markdown",
      "source": [
        "### Geração do dataset de treinamento\n",
        "**X** é o objeto gerado através do torch.stack(), agrupando os \"input_ids\" e \"attention_masks\" das sequências.\n",
        "\n",
        "**y** são os labels convertidos para tipo double."
      ],
      "metadata": {
        "id": "o_4cedWd7Mrj"
      }
    },
    {
      "cell_type": "code",
      "execution_count": null,
      "metadata": {
        "id": "t7QpUuwb1lG9"
      },
      "outputs": [],
      "source": [
        "dataset = MyDataset(X,y)"
      ]
    },
    {
      "cell_type": "markdown",
      "source": [
        "### Geração do dataset de Teste"
      ],
      "metadata": {
        "id": "N_pmNe1v7V0A"
      }
    },
    {
      "cell_type": "code",
      "execution_count": null,
      "metadata": {
        "id": "ea71Stj5L6Po"
      },
      "outputs": [],
      "source": [
        "t_dataset = MyDataset(X_test,y_test)"
      ]
    },
    {
      "cell_type": "markdown",
      "source": [
        "## Definição do tamanho do dataset de treinamento e validação. \n",
        "Serão utilizados 90% dos textos para treinamento, e 10% para validação.\n",
        "O batch ou conjunto de sentenças é definido para 16."
      ],
      "metadata": {
        "id": "2ZYK8XRj7ZIr"
      }
    },
    {
      "cell_type": "code",
      "execution_count": null,
      "metadata": {
        "id": "ylg83TcH1uOW"
      },
      "outputs": [],
      "source": [
        "train_size = 0.9\n",
        "val_size = 0.1\n",
        "BATCH = 16"
      ]
    },
    {
      "cell_type": "code",
      "execution_count": null,
      "metadata": {
        "id": "NVRoXfIf6Z75"
      },
      "outputs": [],
      "source": [
        "n_train = int(np.round(dataset.len*train_size))\n",
        "n_val = int(np.round(dataset.len*val_size))"
      ]
    },
    {
      "cell_type": "code",
      "execution_count": null,
      "metadata": {
        "colab": {
          "base_uri": "https://localhost:8080/"
        },
        "id": "iOYlnC1t_XHO",
        "outputId": "e19ef957-f1a2-4d77-f2ec-bcb473e55a47"
      },
      "outputs": [
        {
          "output_type": "execute_result",
          "data": {
            "text/plain": [
              "(738, 82)"
            ]
          },
          "metadata": {},
          "execution_count": 80
        }
      ],
      "source": [
        "n_train,n_val"
      ]
    },
    {
      "cell_type": "markdown",
      "source": [
        "### Separação do dataset em treinamento e validação"
      ],
      "metadata": {
        "id": "agFCj-AUGbao"
      }
    },
    {
      "cell_type": "code",
      "execution_count": null,
      "metadata": {
        "id": "FzifYWtu_gb3"
      },
      "outputs": [],
      "source": [
        "train_slice, val_slice = torch.utils.data.random_split(dataset,[n_train,n_val])"
      ]
    },
    {
      "cell_type": "markdown",
      "source": [
        "## Criação dos Dataloaders de Treinamento, Validação e teste\n",
        "Estes dataloaders serão utilizados na rotina de teste. \n",
        "\n",
        "O batch para teste é setado em 1 para se observar o acerto para cada sentença individualmente."
      ],
      "metadata": {
        "id": "MKqwBbIXGf4O"
      }
    },
    {
      "cell_type": "code",
      "execution_count": null,
      "metadata": {
        "id": "kSQeBcXk_yUS"
      },
      "outputs": [],
      "source": [
        "train_loader = torch.utils.data.DataLoader(train_slice,batch_size=BATCH,shuffle=True)\n",
        "val_loader = torch.utils.data.DataLoader(val_slice,batch_size=BATCH,shuffle=True)"
      ]
    },
    {
      "cell_type": "code",
      "execution_count": null,
      "metadata": {
        "id": "ih2Oo1IhMHhC"
      },
      "outputs": [],
      "source": [
        "test_loader = torch.utils.data.DataLoader(t_dataset,batch_size=1,shuffle=False)"
      ]
    },
    {
      "cell_type": "markdown",
      "source": [
        "# Congelando os parâmetros do modelo BERT\n",
        "O modelo BERT tem milhões de parâmetros, gradientes e pesos vindos do pré treinamento. Retreinar esses parâmetros é custoso, e para fins de fine tunning, não traz melhoras significativas pois o dataset é pequeno demais. \n",
        "\n",
        "Para desativar o treinamento destes parâmetros, a propriedade requires_grad é setada para False para todos eles."
      ],
      "metadata": {
        "id": "2_GMS8Wx9xUp"
      }
    },
    {
      "cell_type": "code",
      "execution_count": null,
      "metadata": {
        "id": "U2wSyGDzBCGN"
      },
      "outputs": [],
      "source": [
        "for param in model.base_model.parameters():\n",
        "    param.requires_grad = False"
      ]
    },
    {
      "cell_type": "markdown",
      "source": [
        "# Definição de métricas e uso do Scheduler\n",
        "\n",
        "Como a classe utilizada SequenceClassification já retorna um modelo pré treinado com ultima camada softmax, e funcão perda CrossEntropyLoss, não é possível alterar esses parâmetros, a menos que seja construído um modelo do zero.\n",
        "\n",
        "Consultando a documentação, a taxa de aprendizagem deste modelo, que utiliza o otimizador AdamW é lr = 2e-5.\n",
        "\n",
        "Com o scheduler, é possível adicionar uma variação da taxa de aprendizagem. Em modelos de atenção, é desejável reduzir a taxa de aprendizagem, para diminuir a função perda. Com o scheduler, a cada época, a taxa de aprendizagem é multiplicada pelo valor determinado. \n",
        "\n",
        "Neste exemplo, o scheduler é setado para 0.9992, ou seja, a cada iteração, a taxa de aprendizagem será apenas 99,92% da anterior, permitindo uma variação controlada.\n",
        "\n",
        "Para comparação, nos resultados será apresentada uma comparação entre os treinamentos com e sem scheduler. "
      ],
      "metadata": {
        "id": "adIkZy9q50o0"
      }
    },
    {
      "cell_type": "code",
      "execution_count": null,
      "metadata": {
        "id": "65cH_86OB15s"
      },
      "outputs": [],
      "source": [
        "loss_fn = nn.CrossEntropyLoss()\n",
        "optim = torch.optim.Adam(model.parameters())\n",
        "\n",
        "acc_calc = lambda output,labels : (labels == output.argmax(axis = 1)).sum()\n",
        "scheduler = torch.optim.lr_scheduler.ExponentialLR(optim,0.9992)"
      ]
    },
    {
      "cell_type": "markdown",
      "source": [
        "#Definição das épocas e passos\n",
        "\n",
        "Aqui são definidas as épocas. Modelo BERT necessita de poucas épocas para conseguir uma boa precisão. Frequentemente os resultados para precisão ficam entre 76% a 84%. Acima disso, o modelo provavelmente estará sofrendo de overfitting e memorizando o dataset.\n",
        "\n",
        "Outra caracteristica do Modelo BERT é que a precisão de validação é maior que a recisão de treinamento\n",
        "\n",
        "#### Passos e validação\n",
        "\n",
        "Para este modelo, em cada época, ele realizará 200 passos de otimização, e validará por 20"
      ],
      "metadata": {
        "id": "D1HtY9OZ_vqa"
      }
    },
    {
      "cell_type": "code",
      "execution_count": null,
      "metadata": {
        "id": "wRz7ipnxBdUh"
      },
      "outputs": [],
      "source": [
        "epocas = 40\n",
        "steps = 200\n",
        "validation = 20"
      ]
    },
    {
      "cell_type": "code",
      "execution_count": null,
      "metadata": {
        "colab": {
          "base_uri": "https://localhost:8080/"
        },
        "id": "jEgtxHzrCiG7",
        "outputId": "2f4a218c-ec09-4ebb-8c71-698c2cd81da8"
      },
      "outputs": [
        {
          "output_type": "stream",
          "name": "stderr",
          "text": [
            "Train:  24%|██▎       | 47/200 [22:03<1:11:46, 28.15s/steps]\n",
            "Val:  30%|███       | 6/20 [22:03<51:27, 220.51s/samples]\n",
            "Val:  25%|██▌       | 5/20 [00:06<00:10,  1.49samples/s]"
          ]
        },
        {
          "output_type": "stream",
          "name": "stdout",
          "text": [
            "\n",
            "SUMMARY - 1\t Train loss: 0.4853944778442383\t Train Acc: 0.6233062744140625\t Val loss:0.4474716782569885\t Val Acc: 0.6951219439506531\n"
          ]
        },
        {
          "output_type": "stream",
          "name": "stderr",
          "text": [
            "Train:  24%|██▎       | 47/200 [00:07<00:23,  6.62steps/s]\n",
            "Val:  30%|███       | 6/20 [00:07<00:16,  1.18s/samples]\n",
            "Val:  25%|██▌       | 5/20 [00:06<00:10,  1.49samples/s]"
          ]
        },
        {
          "output_type": "stream",
          "name": "stdout",
          "text": [
            "\n",
            "SUMMARY - 2\t Train loss: 0.8926489353179932\t Train Acc: 0.7439024448394775\t Val loss:0.9682663679122925\t Val Acc: 0.6829267740249634\n"
          ]
        },
        {
          "output_type": "stream",
          "name": "stderr",
          "text": [
            "Train:  24%|██▎       | 47/200 [00:06<00:22,  6.73steps/s]\n",
            "Val:  30%|███       | 6/20 [00:06<00:16,  1.16s/samples]\n",
            "Val:  25%|██▌       | 5/20 [00:07<00:10,  1.42samples/s]"
          ]
        },
        {
          "output_type": "stream",
          "name": "stdout",
          "text": [
            "\n",
            "SUMMARY - 3\t Train loss: 0.2561693787574768\t Train Acc: 0.7533875703811646\t Val loss:0.501725435256958\t Val Acc: 0.6829267740249634\n"
          ]
        },
        {
          "output_type": "stream",
          "name": "stderr",
          "text": [
            "Train:  24%|██▎       | 47/200 [00:07<00:23,  6.47steps/s]\n",
            "Val:  30%|███       | 6/20 [00:07<00:16,  1.21s/samples]\n",
            "Val:  25%|██▌       | 5/20 [00:07<00:10,  1.42samples/s]"
          ]
        },
        {
          "output_type": "stream",
          "name": "stdout",
          "text": [
            "\n",
            "SUMMARY - 4\t Train loss: 0.19587358832359314\t Train Acc: 0.7642276287078857\t Val loss:0.5783081650733948\t Val Acc: 0.7317072749137878\n"
          ]
        },
        {
          "output_type": "stream",
          "name": "stderr",
          "text": [
            "Train:  24%|██▎       | 47/200 [00:07<00:24,  6.27steps/s]\n",
            "Val:  30%|███       | 6/20 [00:07<00:17,  1.25s/samples]\n",
            "Val:  25%|██▌       | 5/20 [00:07<00:10,  1.41samples/s]"
          ]
        },
        {
          "output_type": "stream",
          "name": "stdout",
          "text": [
            "\n",
            "SUMMARY - 5\t Train loss: 0.5407645106315613\t Train Acc: 0.7425474524497986\t Val loss:0.6367239952087402\t Val Acc: 0.707317054271698\n"
          ]
        },
        {
          "output_type": "stream",
          "name": "stderr",
          "text": [
            "Train:  24%|██▎       | 47/200 [00:07<00:24,  6.35steps/s]\n",
            "Val:  30%|███       | 6/20 [00:07<00:17,  1.23s/samples]\n",
            "Val:  25%|██▌       | 5/20 [00:07<00:10,  1.41samples/s]"
          ]
        },
        {
          "output_type": "stream",
          "name": "stdout",
          "text": [
            "\n",
            "SUMMARY - 6\t Train loss: 0.3654308617115021\t Train Acc: 0.7560975551605225\t Val loss:1.0026054382324219\t Val Acc: 0.6951219439506531\n"
          ]
        },
        {
          "output_type": "stream",
          "name": "stderr",
          "text": [
            "Train:  24%|██▎       | 47/200 [00:07<00:23,  6.38steps/s]\n",
            "Val:  30%|███       | 6/20 [00:07<00:17,  1.23s/samples]\n",
            "Val:  25%|██▌       | 5/20 [00:07<00:10,  1.39samples/s]"
          ]
        },
        {
          "output_type": "stream",
          "name": "stdout",
          "text": [
            "\n",
            "SUMMARY - 7\t Train loss: 0.509596586227417\t Train Acc: 0.7574526071548462\t Val loss:0.9443870782852173\t Val Acc: 0.7317072749137878\n"
          ]
        },
        {
          "output_type": "stream",
          "name": "stderr",
          "text": [
            "Train:  24%|██▎       | 47/200 [00:07<00:24,  6.28steps/s]\n",
            "Val:  30%|███       | 6/20 [00:07<00:17,  1.25s/samples]\n",
            "Val:  25%|██▌       | 5/20 [00:07<00:10,  1.38samples/s]"
          ]
        },
        {
          "output_type": "stream",
          "name": "stdout",
          "text": [
            "\n",
            "SUMMARY - 8\t Train loss: 0.5044146180152893\t Train Acc: 0.7669376730918884\t Val loss:0.2715064287185669\t Val Acc: 0.7317072749137878\n"
          ]
        },
        {
          "output_type": "stream",
          "name": "stderr",
          "text": [
            "Train:  24%|██▎       | 47/200 [00:07<00:24,  6.28steps/s]\n",
            "Val:  30%|███       | 6/20 [00:07<00:17,  1.25s/samples]\n",
            "Val:  25%|██▌       | 5/20 [00:07<00:10,  1.39samples/s]"
          ]
        },
        {
          "output_type": "stream",
          "name": "stdout",
          "text": [
            "\n",
            "SUMMARY - 9\t Train loss: 0.591805636882782\t Train Acc: 0.7533875703811646\t Val loss:0.9290215969085693\t Val Acc: 0.7317072749137878\n"
          ]
        },
        {
          "output_type": "stream",
          "name": "stderr",
          "text": [
            "Train:  24%|██▎       | 47/200 [00:07<00:24,  6.32steps/s]\n",
            "Val:  30%|███       | 6/20 [00:07<00:17,  1.24s/samples]\n",
            "Val:  25%|██▌       | 5/20 [00:07<00:10,  1.40samples/s]"
          ]
        },
        {
          "output_type": "stream",
          "name": "stdout",
          "text": [
            "\n",
            "SUMMARY - 10\t Train loss: 0.36511969566345215\t Train Acc: 0.7411924004554749\t Val loss:1.0538694858551025\t Val Acc: 0.7317072749137878\n"
          ]
        },
        {
          "output_type": "stream",
          "name": "stderr",
          "text": [
            "Train:  24%|██▎       | 47/200 [00:07<00:24,  6.30steps/s]\n",
            "Val:  30%|███       | 6/20 [00:07<00:17,  1.24s/samples]\n",
            "Val:  25%|██▌       | 5/20 [00:07<00:10,  1.40samples/s]"
          ]
        },
        {
          "output_type": "stream",
          "name": "stdout",
          "text": [
            "\n",
            "SUMMARY - 11\t Train loss: 0.7720177173614502\t Train Acc: 0.7628726363182068\t Val loss:0.09951610863208771\t Val Acc: 0.7439023852348328\n"
          ]
        },
        {
          "output_type": "stream",
          "name": "stderr",
          "text": [
            "Train:  24%|██▎       | 47/200 [00:07<00:23,  6.41steps/s]\n",
            "Val:  30%|███       | 6/20 [00:07<00:17,  1.22s/samples]\n",
            "Val:  25%|██▌       | 5/20 [00:07<00:10,  1.40samples/s]"
          ]
        },
        {
          "output_type": "stream",
          "name": "stdout",
          "text": [
            "\n",
            "SUMMARY - 12\t Train loss: 0.31899964809417725\t Train Acc: 0.7574526071548462\t Val loss:1.4360883235931396\t Val Acc: 0.7317072749137878\n"
          ]
        },
        {
          "output_type": "stream",
          "name": "stderr",
          "text": [
            "Train:  24%|██▎       | 47/200 [00:07<00:24,  6.33steps/s]\n",
            "Val:  30%|███       | 6/20 [00:07<00:17,  1.24s/samples]\n",
            "Val:  25%|██▌       | 5/20 [00:07<00:10,  1.37samples/s]"
          ]
        },
        {
          "output_type": "stream",
          "name": "stdout",
          "text": [
            "\n",
            "SUMMARY - 13\t Train loss: 0.493967741727829\t Train Acc: 0.7696477174758911\t Val loss:0.17859895527362823\t Val Acc: 0.7317072749137878\n"
          ]
        },
        {
          "output_type": "stream",
          "name": "stderr",
          "text": [
            "Train:  24%|██▎       | 47/200 [00:07<00:24,  6.13steps/s]\n",
            "Val:  30%|███       | 6/20 [00:07<00:17,  1.28s/samples]\n",
            "Val:  25%|██▌       | 5/20 [00:07<00:11,  1.36samples/s]"
          ]
        },
        {
          "output_type": "stream",
          "name": "stdout",
          "text": [
            "\n",
            "SUMMARY - 14\t Train loss: 0.2514994740486145\t Train Acc: 0.7669376730918884\t Val loss:0.16458824276924133\t Val Acc: 0.7195121645927429\n"
          ]
        },
        {
          "output_type": "stream",
          "name": "stderr",
          "text": [
            "Train:  24%|██▎       | 47/200 [00:07<00:25,  6.04steps/s]\n",
            "Val:  30%|███       | 6/20 [00:07<00:18,  1.29s/samples]\n",
            "Val:  25%|██▌       | 5/20 [00:07<00:11,  1.33samples/s]"
          ]
        },
        {
          "output_type": "stream",
          "name": "stdout",
          "text": [
            "\n",
            "SUMMARY - 15\t Train loss: 0.31114670634269714\t Train Acc: 0.7737127542495728\t Val loss:0.6702208518981934\t Val Acc: 0.707317054271698\n"
          ]
        },
        {
          "output_type": "stream",
          "name": "stderr",
          "text": [
            "Train:  24%|██▎       | 47/200 [00:07<00:25,  6.02steps/s]\n",
            "Val:  30%|███       | 6/20 [00:07<00:18,  1.30s/samples]\n",
            "Val:  25%|██▌       | 5/20 [00:07<00:11,  1.30samples/s]"
          ]
        },
        {
          "output_type": "stream",
          "name": "stdout",
          "text": [
            "\n",
            "SUMMARY - 16\t Train loss: 0.10796597599983215\t Train Acc: 0.7642276287078857\t Val loss:0.3676469027996063\t Val Acc: 0.7317072749137878\n"
          ]
        },
        {
          "output_type": "stream",
          "name": "stderr",
          "text": [
            "Train:  24%|██▎       | 47/200 [00:08<00:26,  5.77steps/s]\n",
            "Val:  30%|███       | 6/20 [00:08<00:19,  1.36s/samples]\n",
            "Val:  25%|██▌       | 5/20 [00:08<00:11,  1.26samples/s]"
          ]
        },
        {
          "output_type": "stream",
          "name": "stdout",
          "text": [
            "\n",
            "SUMMARY - 17\t Train loss: 0.5199431777000427\t Train Acc: 0.791327953338623\t Val loss:0.5159120559692383\t Val Acc: 0.7317072749137878\n"
          ]
        },
        {
          "output_type": "stream",
          "name": "stderr",
          "text": [
            "Train:  24%|██▎       | 47/200 [00:08<00:26,  5.73steps/s]\n",
            "Val:  30%|███       | 6/20 [00:08<00:19,  1.37s/samples]\n",
            "Val:  25%|██▌       | 5/20 [00:08<00:12,  1.24samples/s]"
          ]
        },
        {
          "output_type": "stream",
          "name": "stdout",
          "text": [
            "\n",
            "SUMMARY - 18\t Train loss: 2.401123046875\t Train Acc: 0.7859078645706177\t Val loss:0.3023240864276886\t Val Acc: 0.7317072749137878\n"
          ]
        },
        {
          "output_type": "stream",
          "name": "stderr",
          "text": [
            "Train:  24%|██▎       | 47/200 [00:08<00:26,  5.67steps/s]\n",
            "Val:  30%|███       | 6/20 [00:08<00:19,  1.41s/samples]\n",
            "Val:  25%|██▌       | 5/20 [00:08<00:11,  1.25samples/s]"
          ]
        },
        {
          "output_type": "stream",
          "name": "stdout",
          "text": [
            "\n",
            "SUMMARY - 19\t Train loss: 0.4408310055732727\t Train Acc: 0.781842827796936\t Val loss:0.24759525060653687\t Val Acc: 0.7317072749137878\n"
          ]
        },
        {
          "output_type": "stream",
          "name": "stderr",
          "text": [
            "Train:  24%|██▎       | 47/200 [00:08<00:27,  5.58steps/s]\n",
            "Val:  30%|███       | 6/20 [00:08<00:19,  1.40s/samples]\n",
            "Val:  25%|██▌       | 5/20 [00:07<00:11,  1.29samples/s]"
          ]
        },
        {
          "output_type": "stream",
          "name": "stdout",
          "text": [
            "\n",
            "SUMMARY - 20\t Train loss: 1.002446174621582\t Train Acc: 0.7533875703811646\t Val loss:0.386081725358963\t Val Acc: 0.7317072749137878\n"
          ]
        },
        {
          "output_type": "stream",
          "name": "stderr",
          "text": [
            "Train:  24%|██▎       | 47/200 [00:08<00:26,  5.74steps/s]\n",
            "Val:  30%|███       | 6/20 [00:08<00:19,  1.37s/samples]\n",
            "Val:  25%|██▌       | 5/20 [00:07<00:11,  1.31samples/s]"
          ]
        },
        {
          "output_type": "stream",
          "name": "stdout",
          "text": [
            "\n",
            "SUMMARY - 21\t Train loss: 1.2050297260284424\t Train Acc: 0.7710027098655701\t Val loss:0.6096042394638062\t Val Acc: 0.7439023852348328\n"
          ]
        },
        {
          "output_type": "stream",
          "name": "stderr",
          "text": [
            "Train:  24%|██▎       | 47/200 [00:08<00:26,  5.87steps/s]\n",
            "Val:  30%|███       | 6/20 [00:08<00:18,  1.33s/samples]\n",
            "Val:  25%|██▌       | 5/20 [00:07<00:11,  1.33samples/s]"
          ]
        },
        {
          "output_type": "stream",
          "name": "stdout",
          "text": [
            "\n",
            "SUMMARY - 22\t Train loss: 0.19070953130722046\t Train Acc: 0.7615176439285278\t Val loss:0.8120980262756348\t Val Acc: 0.7195121645927429\n"
          ]
        },
        {
          "output_type": "stream",
          "name": "stderr",
          "text": [
            "Train:  24%|██▎       | 47/200 [00:07<00:25,  5.91steps/s]\n",
            "Val:  30%|███       | 6/20 [00:07<00:18,  1.33s/samples]\n",
            "Val:  25%|██▌       | 5/20 [00:07<00:11,  1.33samples/s]"
          ]
        },
        {
          "output_type": "stream",
          "name": "stdout",
          "text": [
            "\n",
            "SUMMARY - 23\t Train loss: 1.439778447151184\t Train Acc: 0.791327953338623\t Val loss:0.19572868943214417\t Val Acc: 0.7439023852348328\n"
          ]
        },
        {
          "output_type": "stream",
          "name": "stderr",
          "text": [
            "Train:  24%|██▎       | 47/200 [00:07<00:25,  6.02steps/s]\n",
            "Val:  30%|███       | 6/20 [00:07<00:18,  1.30s/samples]\n",
            "Val:  25%|██▌       | 5/20 [00:07<00:11,  1.33samples/s]"
          ]
        },
        {
          "output_type": "stream",
          "name": "stdout",
          "text": [
            "\n",
            "SUMMARY - 24\t Train loss: 0.19814687967300415\t Train Acc: 0.783197820186615\t Val loss:0.30029723048210144\t Val Acc: 0.7439023852348328\n"
          ]
        },
        {
          "output_type": "stream",
          "name": "stderr",
          "text": [
            "Train:  24%|██▎       | 47/200 [00:07<00:25,  5.95steps/s]\n",
            "Val:  30%|███       | 6/20 [00:07<00:18,  1.32s/samples]\n",
            "Val:  25%|██▌       | 5/20 [00:07<00:11,  1.32samples/s]"
          ]
        },
        {
          "output_type": "stream",
          "name": "stdout",
          "text": [
            "\n",
            "SUMMARY - 25\t Train loss: 0.6662821769714355\t Train Acc: 0.7696477174758911\t Val loss:1.0471539497375488\t Val Acc: 0.7439023852348328\n"
          ]
        },
        {
          "output_type": "stream",
          "name": "stderr",
          "text": [
            "Train:  24%|██▎       | 47/200 [00:07<00:25,  5.89steps/s]\n",
            "Val:  30%|███       | 6/20 [00:07<00:18,  1.33s/samples]\n",
            "Val:  25%|██▌       | 5/20 [00:07<00:11,  1.32samples/s]"
          ]
        },
        {
          "output_type": "stream",
          "name": "stdout",
          "text": [
            "\n",
            "SUMMARY - 26\t Train loss: 0.5265369415283203\t Train Acc: 0.7655826807022095\t Val loss:0.10683063417673111\t Val Acc: 0.7439023852348328\n"
          ]
        },
        {
          "output_type": "stream",
          "name": "stderr",
          "text": [
            "Train:  24%|██▎       | 47/200 [00:08<00:26,  5.86steps/s]\n",
            "Val:  30%|███       | 6/20 [00:08<00:18,  1.34s/samples]\n",
            "Val:  25%|██▌       | 5/20 [00:07<00:11,  1.30samples/s]"
          ]
        },
        {
          "output_type": "stream",
          "name": "stdout",
          "text": [
            "\n",
            "SUMMARY - 27\t Train loss: 0.8385374546051025\t Train Acc: 0.7764227986335754\t Val loss:0.5399696826934814\t Val Acc: 0.7317072749137878\n"
          ]
        },
        {
          "output_type": "stream",
          "name": "stderr",
          "text": [
            "Train:  24%|██▎       | 47/200 [00:07<00:26,  5.88steps/s]\n",
            "Val:  30%|███       | 6/20 [00:07<00:18,  1.33s/samples]\n",
            "Val:  25%|██▌       | 5/20 [00:07<00:11,  1.30samples/s]"
          ]
        },
        {
          "output_type": "stream",
          "name": "stdout",
          "text": [
            "\n",
            "SUMMARY - 28\t Train loss: 0.6590027809143066\t Train Acc: 0.7764227986335754\t Val loss:0.3880816698074341\t Val Acc: 0.7439023852348328\n"
          ]
        },
        {
          "output_type": "stream",
          "name": "stderr",
          "text": [
            "Train:  24%|██▎       | 47/200 [00:08<00:26,  5.80steps/s]\n",
            "Val:  30%|███       | 6/20 [00:08<00:18,  1.35s/samples]\n",
            "Val:  25%|██▌       | 5/20 [00:07<00:11,  1.29samples/s]"
          ]
        },
        {
          "output_type": "stream",
          "name": "stdout",
          "text": [
            "\n",
            "SUMMARY - 29\t Train loss: 0.3387219309806824\t Train Acc: 0.7723577618598938\t Val loss:0.6569458842277527\t Val Acc: 0.7439023852348328\n"
          ]
        },
        {
          "output_type": "stream",
          "name": "stderr",
          "text": [
            "Train:  24%|██▎       | 47/200 [00:08<00:26,  5.75steps/s]\n",
            "Val:  30%|███       | 6/20 [00:08<00:19,  1.36s/samples]\n",
            "Val:  25%|██▌       | 5/20 [00:07<00:11,  1.29samples/s]"
          ]
        },
        {
          "output_type": "stream",
          "name": "stdout",
          "text": [
            "\n",
            "SUMMARY - 30\t Train loss: 0.4308139383792877\t Train Acc: 0.7872629165649414\t Val loss:0.14967717230319977\t Val Acc: 0.7439023852348328\n"
          ]
        },
        {
          "output_type": "stream",
          "name": "stderr",
          "text": [
            "Train:  24%|██▎       | 47/200 [00:08<00:26,  5.87steps/s]\n",
            "Val:  30%|███       | 6/20 [00:08<00:18,  1.33s/samples]\n",
            "Val:  25%|██▌       | 5/20 [00:07<00:11,  1.30samples/s]"
          ]
        },
        {
          "output_type": "stream",
          "name": "stdout",
          "text": [
            "\n",
            "SUMMARY - 31\t Train loss: 0.6359781622886658\t Train Acc: 0.7804878354072571\t Val loss:0.27728116512298584\t Val Acc: 0.7195121645927429\n"
          ]
        },
        {
          "output_type": "stream",
          "name": "stderr",
          "text": [
            "Train:  24%|██▎       | 47/200 [00:08<00:26,  5.84steps/s]\n",
            "Val:  30%|███       | 6/20 [00:08<00:18,  1.34s/samples]\n",
            "Val:  25%|██▌       | 5/20 [00:07<00:11,  1.31samples/s]"
          ]
        },
        {
          "output_type": "stream",
          "name": "stdout",
          "text": [
            "\n",
            "SUMMARY - 32\t Train loss: 0.2607479691505432\t Train Acc: 0.7845528721809387\t Val loss:0.11517428606748581\t Val Acc: 0.7560975551605225\n"
          ]
        },
        {
          "output_type": "stream",
          "name": "stderr",
          "text": [
            "Train:  24%|██▎       | 47/200 [00:07<00:25,  5.92steps/s]\n",
            "Val:  30%|███       | 6/20 [00:07<00:18,  1.32s/samples]\n",
            "Val:  25%|██▌       | 5/20 [00:07<00:11,  1.31samples/s]"
          ]
        },
        {
          "output_type": "stream",
          "name": "stdout",
          "text": [
            "\n",
            "SUMMARY - 33\t Train loss: 0.24718831479549408\t Train Acc: 0.7899729013442993\t Val loss:0.44258567690849304\t Val Acc: 0.7560975551605225\n"
          ]
        },
        {
          "output_type": "stream",
          "name": "stderr",
          "text": [
            "Train:  24%|██▎       | 47/200 [00:08<00:26,  5.84steps/s]\n",
            "Val:  30%|███       | 6/20 [00:08<00:18,  1.34s/samples]\n",
            "Val:  25%|██▌       | 5/20 [00:07<00:11,  1.31samples/s]"
          ]
        },
        {
          "output_type": "stream",
          "name": "stdout",
          "text": [
            "\n",
            "SUMMARY - 34\t Train loss: 0.21918228268623352\t Train Acc: 0.7764227986335754\t Val loss:0.5901045799255371\t Val Acc: 0.7317072749137878\n"
          ]
        },
        {
          "output_type": "stream",
          "name": "stderr",
          "text": [
            "Train:  24%|██▎       | 47/200 [00:07<00:26,  5.88steps/s]\n",
            "Val:  30%|███       | 6/20 [00:07<00:18,  1.33s/samples]\n",
            "Val:  25%|██▌       | 5/20 [00:07<00:11,  1.32samples/s]"
          ]
        },
        {
          "output_type": "stream",
          "name": "stdout",
          "text": [
            "\n",
            "SUMMARY - 35\t Train loss: 0.8590525388717651\t Train Acc: 0.7872629165649414\t Val loss:0.3040703237056732\t Val Acc: 0.6951219439506531\n"
          ]
        },
        {
          "output_type": "stream",
          "name": "stderr",
          "text": [
            "Train:  24%|██▎       | 47/200 [00:07<00:25,  5.90steps/s]\n",
            "Val:  30%|███       | 6/20 [00:07<00:18,  1.33s/samples]\n",
            "Val:  25%|██▌       | 5/20 [00:07<00:11,  1.31samples/s]"
          ]
        },
        {
          "output_type": "stream",
          "name": "stdout",
          "text": [
            "\n",
            "SUMMARY - 36\t Train loss: 1.3933682441711426\t Train Acc: 0.7872629165649414\t Val loss:0.2870480716228485\t Val Acc: 0.7439023852348328\n"
          ]
        },
        {
          "output_type": "stream",
          "name": "stderr",
          "text": [
            "Train:  24%|██▎       | 47/200 [00:07<00:25,  5.90steps/s]\n",
            "Val:  30%|███       | 6/20 [00:07<00:18,  1.33s/samples]\n",
            "Val:  25%|██▌       | 5/20 [00:07<00:11,  1.31samples/s]"
          ]
        },
        {
          "output_type": "stream",
          "name": "stdout",
          "text": [
            "\n",
            "SUMMARY - 37\t Train loss: 0.07415071874856949\t Train Acc: 0.7872629165649414\t Val loss:0.26821988821029663\t Val Acc: 0.7439023852348328\n"
          ]
        },
        {
          "output_type": "stream",
          "name": "stderr",
          "text": [
            "Train:  24%|██▎       | 47/200 [00:07<00:25,  5.92steps/s]\n",
            "Val:  30%|███       | 6/20 [00:07<00:18,  1.32s/samples]\n",
            "Val:  25%|██▌       | 5/20 [00:07<00:11,  1.31samples/s]"
          ]
        },
        {
          "output_type": "stream",
          "name": "stdout",
          "text": [
            "\n",
            "SUMMARY - 38\t Train loss: 0.11004248261451721\t Train Acc: 0.7791327834129333\t Val loss:1.4539849758148193\t Val Acc: 0.7439023852348328\n"
          ]
        },
        {
          "output_type": "stream",
          "name": "stderr",
          "text": [
            "Train:  24%|██▎       | 47/200 [00:07<00:25,  5.95steps/s]\n",
            "Val:  30%|███       | 6/20 [00:07<00:18,  1.32s/samples]\n",
            "Val:  25%|██▌       | 5/20 [00:07<00:11,  1.30samples/s]"
          ]
        },
        {
          "output_type": "stream",
          "name": "stdout",
          "text": [
            "\n",
            "SUMMARY - 39\t Train loss: 0.20520026981830597\t Train Acc: 0.7669376730918884\t Val loss:0.19457435607910156\t Val Acc: 0.7439023852348328\n"
          ]
        },
        {
          "output_type": "stream",
          "name": "stderr",
          "text": [
            "Train:  24%|██▎       | 47/200 [00:08<00:26,  5.85steps/s]\n",
            "Val:  30%|███       | 6/20 [00:08<00:18,  1.34s/samples]\n",
            "Val:  25%|██▌       | 5/20 [00:07<00:11,  1.30samples/s]"
          ]
        },
        {
          "output_type": "stream",
          "name": "stdout",
          "text": [
            "\n",
            "SUMMARY - 40\t Train loss: 0.2064545601606369\t Train Acc: 0.7750677466392517\t Val loss:0.14698462188243866\t Val Acc: 0.7560975551605225\n"
          ]
        }
      ],
      "source": [
        "hist_train_acc = []\n",
        "hist_train_loss = []\n",
        "hist_val_acc = []\n",
        "hist_val_loss = []\n",
        "\n",
        "for i in range(epocas):\n",
        "    n_train_ex = 0\n",
        "    n_val_ex = 0\n",
        "\n",
        "    train_hit = 0\n",
        "    val_hit = 0\n",
        "\n",
        "    train_bar = tqdm(total = steps, desc='Train',unit='steps',position = 0,leave=True)\n",
        "    val_bar = tqdm(total = validation, desc='Val',unit='samples',position = 0,leave=True)\n",
        "\n",
        "    for batch_num, (features,labels) in enumerate(train_loader):\n",
        "\n",
        "        train_loss = 0\n",
        "\n",
        "        model.train()\n",
        "\n",
        "        input_ids,input_masks = features [:,0,:],features[:,1,:]\n",
        "\n",
        "        var_temp = model(input_ids,input_masks,labels = labels.long())\n",
        "\n",
        "        loss, logits = var_temp[0], var_temp[1]\n",
        "\n",
        "        optim.zero_grad()\n",
        "        loss.backward()\n",
        "        optim.step()\n",
        "\n",
        "        train_loss += loss.item()\n",
        "\n",
        "        softmax_pred = nn.functional.softmax(logits,dim=1)\n",
        "        train_hit +=  acc_calc(softmax_pred,labels)\n",
        "\n",
        "        train_bar.update(1)\n",
        "\n",
        "        n_train_ex += features.shape[0]\n",
        "\n",
        "        scheduler.step()\n",
        "\n",
        "        if (batch_num + 1) % steps == 0:\n",
        "          train_bar.close()\n",
        "          break\n",
        "\n",
        "    for batch_num, (features,labels) in enumerate(val_loader):\n",
        "        \n",
        "        with torch.no_grad():\n",
        "            val_loss = 0\n",
        "\n",
        "            model.eval()\n",
        "\n",
        "            input_ids,input_masks = features [:,0,:],features[:,1,:]\n",
        "\n",
        "            var_temp2 = model(input_ids,input_masks,labels = labels.long())\n",
        "\n",
        "            loss, logits = var_temp2[0], var_temp2[1]\n",
        "\n",
        "            val_loss += loss.item()\n",
        "\n",
        "            softmax_pred = nn.functional.softmax(logits,dim=1)\n",
        "            val_hit +=  acc_calc(softmax_pred,labels)\n",
        "\n",
        "            val_bar.update(1)\n",
        "\n",
        "            n_val_ex +=features.shape[0]\n",
        "\n",
        "            if (batch_num + 1) % validation == 0:\n",
        "                val_bar.close()\n",
        "                break\n",
        "    train_acc = torch.true_divide(train_hit,n_train_ex)\n",
        "    val_acc = torch.true_divide(val_hit,n_val_ex)\n",
        "\n",
        "    print(f'\\nSUMMARY - {i+1}\\t Train loss: {train_loss}\\t Train Acc: {train_acc.item()}\\t Val loss:{val_loss}\\t Val Acc: {val_acc.item()}')\n",
        "    \n",
        "    hist_train_acc.append(train_acc.item())\n",
        "    hist_train_loss.append(train_loss)\n",
        "    hist_val_acc.append(val_acc.item())\n",
        "    hist_val_loss.append(val_loss)\n",
        "    \n",
        "\n"
      ]
    },
    {
      "cell_type": "code",
      "source": [
        "\n",
        "hist_epoca = np.arange(1,epocas+1,1)\n",
        "hist_train = pd.DataFrame({\"Precisão\":hist_train_acc,\"Época\":hist_epoca})\n",
        "hist_val = pd.DataFrame({\"Precisão\":hist_val_acc,\"Época\":hist_epoca})\n",
        "plt.rcParams[\"figure.figsize\"] = [9.00, 7.00]\n",
        "plt.rcParams[\"figure.autolayout\"] = True\n",
        "plt.rcParams[\"axes.titleweight\"] = 10\n",
        "plt.rcParams[\"font.style\"] = 'normal'\n",
        "plt.rcParams['font.size'] = 14\n",
        "fig, ax = plt.subplots()\n",
        "ax = sns.lineplot(x = \"Época\", y = \"Precisão\",data= hist_train)\n",
        "ax.set_facecolor('#EAEAEA')\n",
        "ax1 = sns.lineplot(x = \"Época\", y = \"Precisão\",data= hist_val)\n",
        "plt.legend(labels=['Treinamento', 'Validação'])\n",
        "plt.yticks(np.arange(0.6,0.82,0.02))\n",
        "x = np.arange(1,epocas+1,1)\n",
        "#plt.xticks(x,hist_train['Época'])\n",
        "plt.xticks(np.arange(1,epocas+1,1))\n",
        "plt.title(\"Precisão x Época\")\n",
        "plt.grid()\n",
        "#plt.suptitle(\"Precisão x Época\",fontweight='bold')\n",
        "plt.show()\n",
        "\n"
      ],
      "metadata": {
        "colab": {
          "base_uri": "https://localhost:8080/"
        },
        "id": "kIddrM6-VcIP",
        "outputId": "c21eb29a-35b7-4e31-e076-02702feaef84"
      },
      "execution_count": null,
      "outputs": [
        {
          "output_type": "display_data",
          "data": {
            "text/plain": [
              "<Figure size 648x504 with 1 Axes>"
            ],
            "image/png": "[encoded data removed]"
          },
          "metadata": {
            "needs_background": "light"
          }
        }
      ]
    },
    {
      "cell_type": "code",
      "source": [
        "hist_train_l = pd.DataFrame({\"Loss\":hist_train_loss,\"Epoca\":hist_epoca})\n",
        "hist_val_l = pd.DataFrame({\"Loss\":hist_val_loss,\"Epoca\":hist_epoca})\n",
        "plt.rcParams[\"figure.figsize\"] = [9.00, 7.00]\n",
        "plt.rcParams[\"figure.autolayout\"] = True\n",
        "plt.rcParams[\"axes.titleweight\"] = 10\n",
        "plt.rcParams['font.size'] = 14\n",
        "fig, ax = plt.subplots()\n",
        "ax = sns.lineplot(x = \"Epoca\", y = \"Loss\",data= hist_train_l)\n",
        "ax.set_facecolor('#EAEAEA')\n",
        "ax1 = sns.lineplot(x = \"Epoca\", y = \"Loss\",data= hist_val_l)\n",
        "plt.title(\"Loss x Época\")\n",
        "x = np.arange(1,11,1)\n",
        "#plt.xticks(x,hist_epoca)\n",
        "plt.xticks(np.arange(1,epocas+1,1))\n",
        "#plt.yticks(np.arange(0.1,0.8,0.05))\n",
        "plt.grid()\n",
        "plt.show()\n",
        "\n"
      ],
      "metadata": {
        "id": "1wZcO3jtcu-j",
        "colab": {
          "base_uri": "https://localhost:8080/"
        },
        "outputId": "259b96bc-cb83-4097-f9a0-832bb449b0e5"
      },
      "execution_count": null,
      "outputs": [
        {
          "output_type": "display_data",
          "data": {
            "text/plain": [
              "<Figure size 648x504 with 1 Axes>"
            ],
            "image/png": "[encoded data removed]"
          },
          "metadata": {
            "needs_background": "light"
          }
        }
      ]
    },
    {
      "cell_type": "code",
      "execution_count": null,
      "metadata": {
        "id": "UYYoCAfuLVMj"
      },
      "outputs": [],
      "source": [
        "n_test_ex = 0\n",
        "test_hits = 0\n",
        "test_hit = []\n",
        "\n",
        "test_loss = 0\n",
        "\n",
        "for batch_num, (features,labels) in enumerate(test_loader):\n",
        "        \n",
        "        with torch.no_grad():\n",
        "            val_loss = 0\n",
        "\n",
        "            model.eval()\n",
        "\n",
        "            input_ids,input_masks = features [:,0,:],features[:,1,:]\n",
        "\n",
        "            var_temp2 = model(input_ids,input_masks,labels = labels.long())\n",
        "\n",
        "            loss, logits = var_temp2[0], var_temp2[1]\n",
        "\n",
        "            test_loss += loss.item()\n",
        "\n",
        "            softmax_pred = nn.functional.softmax(logits,dim=1)\n",
        "            test_hits += acc_calc(softmax_pred,labels)\n",
        "            test_hit.append(acc_calc(softmax_pred,labels).item())\n",
        "\n",
        "            n_test_ex += features.shape[0]\n"
      ]
    },
    {
      "cell_type": "code",
      "execution_count": null,
      "metadata": {
        "colab": {
          "base_uri": "https://localhost:8080/"
        },
        "id": "Db04aYTTNDOr",
        "outputId": "82f221c1-e036-47d2-be63-a924b56c7bf8"
      },
      "outputs": [
        {
          "output_type": "execute_result",
          "data": {
            "text/plain": [
              "tensor(1., device='cuda:0')"
            ]
          },
          "metadata": {},
          "execution_count": 91
        }
      ],
      "source": [
        "test_acc = torch.true_divide(test_hits,n_test_ex)\n",
        "test_acc"
      ]
    },
    {
      "cell_type": "code",
      "execution_count": null,
      "metadata": {
        "colab": {
          "base_uri": "https://localhost:8080/"
        },
        "id": "f34vSZPWPo7S",
        "outputId": "6af09094-ea08-441d-c815-5e34d1dc643d"
      },
      "outputs": [
        {
          "output_type": "execute_result",
          "data": {
            "text/plain": [
              "([1, 1, 1, 1, 1, 1, 1, 1], tensor([1., 1., 1., 1., 0., 0., 0., 0.]))"
            ]
          },
          "metadata": {},
          "execution_count": 92
        }
      ],
      "source": [
        "test_hit,y_test"
      ]
    },
    {
      "cell_type": "markdown",
      "source": [
        "# Testes com sentenças avulsas\n",
        "- É possivel testar o modelo diretamente em um resumo, basta que o texto passe pelo mesmo processo de limpeza, formatação e tokenização. A função abaixo automatiza esse processo."
      ],
      "metadata": {
        "id": "fy3VKm7lKw5x"
      }
    },
    {
      "cell_type": "code",
      "source": [
        "def prediction(text:str) -> str:\n",
        "    text = prepare(text)\n",
        "    batch = tokenizer(text,padding=True,truncation=True,max_length=150,return_tensors=\"pt\").to(device)\n",
        "    disciplinas = {0:\"Eletrica\",1:\"Eletrônica\"}\n",
        "    with torch.no_grad():\n",
        "        outputs = model(**batch)\n",
        "        #print(outputs)\n",
        "        predictions = F.softmax(outputs.logits,dim=1)\n",
        "        #print(predictions)\n",
        "        labels = torch.argmax(predictions,dim=1)\n",
        "        #print(labels)\n",
        "        return disciplinas.get(labels.item())  \n"
      ],
      "metadata": {
        "id": "osdlfyQOHut6"
      },
      "execution_count": null,
      "outputs": []
    },
    {
      "cell_type": "code",
      "source": [
        "teste_1 = \"\"\"O objetivo deste trabalho é propor um algoritmo para realizar a \n",
        "identificação de padrões na vocalização suína, visando determinar o nível do \n",
        "bem-estar do animal. Tal análise foi proposta uma vez que o bem-estar animal é \n",
        "um assunto cada vez mais abordado no mundo todo, principalmente quando os animais \n",
        "são criados para o abate. Dessa forma, a criação de um método em que haja o mínimo \n",
        "de contato com os animais se faz importante, evitando que tal contato altere o \n",
        "comportamento do animal e, conseqüentemente, o resultado da análise de seu bem-estar. \n",
        "Por essas características, foi proposto um método de análise dos sons emitidos pelos \n",
        "suínos com base na utilização de uma Rede Neural Artificial do tipo Radial Basis Function,\n",
        " como elementos de treinamento e operação um conjunto de características extraídas através\n",
        " ormada Discreta Wavelet de sinais sonoros pré-gravados. As características obtidas dos\n",
        "sinais foram as energias das bandas críticas relativas à Escala Bark e a diferença \n",
        "entre as energias das bandas adjacentes, além dimensão fractal do sinal. Através\n",
        "desse método foram analisados dois tipos de sinais sonoros: a vocalização de\n",
        "leitões saudáveis e de leitões acometidos por uma doença chamada Artrite Traumática; \n",
        " e a vocalização de suínos adultos em situações de conforto e desconforto. Os \n",
        "resultados demonstram que a análise proposta atingiu bons patamares de acerto na\n",
        "determinação do bem-estar do animal\"\"\"\n",
        "#eletronica 1"
      ],
      "metadata": {
        "id": "IjCPf7hNKVjN"
      },
      "execution_count": null,
      "outputs": []
    },
    {
      "cell_type": "code",
      "source": [
        "prediction(teste_1)"
      ],
      "metadata": {
        "colab": {
          "base_uri": "https://localhost:8080/"
        },
        "id": "PlN78PtZKWLa",
        "outputId": "aa11480c-6a36-46fb-8fbf-a6580e8d0d2c"
      },
      "execution_count": null,
      "outputs": [
        {
          "output_type": "execute_result",
          "data": {
            "text/plain": [
              "'Eletrônica'"
            ],
            "application/vnd.google.colaboratory.intrinsic+json": {
              "type": "string"
            }
          },
          "metadata": {},
          "execution_count": 95
        }
      ]
    },
    {
      "cell_type": "code",
      "source": [
        "teste_2 = \"\"\"Produzindo inicialmente motores elétricos, a WEG ampliou \n",
        "suas atividades a partir da década de 80, com a produção de componentes \n",
        "eletroeletrônicos, produtos para automação industrial, transformadores de\n",
        " força e distribuição, tintas líquidas e em pó e vernizes eletroisolantes. \n",
        " A empresa se consolidou não só como fabricante de motores, mas como fornecedora \n",
        " de sistemas elétricos industriais completos.\"\"\"\n",
        "#eletrica 0"
      ],
      "metadata": {
        "id": "N1BXKOkCHoxH"
      },
      "execution_count": null,
      "outputs": []
    },
    {
      "cell_type": "code",
      "source": [
        "prediction(teste_2)"
      ],
      "metadata": {
        "colab": {
          "base_uri": "https://localhost:8080/",
          "height": 35
        },
        "id": "nthvPNyaJHeq",
        "outputId": "dc602399-d0df-4f58-9e4a-ac09e694f441"
      },
      "execution_count": null,
      "outputs": [
        {
          "output_type": "execute_result",
          "data": {
            "text/plain": [
              "'Eletrica'"
            ],
            "application/vnd.google.colaboratory.intrinsic+json": {
              "type": "string"
            }
          },
          "metadata": {},
          "execution_count": 97
        }
      ]
    },
    {
      "cell_type": "code",
      "source": [
        "teste_3 = \"\"\"Numa definição mais abrangente, podemos dizer que a eletrônica é o \n",
        "ramo da ciência que estuda o uso de circuitos formados por componentes elétricos\n",
        " e eletrônicos, com o objetivo principal de representar, armazenar, transmitir \n",
        " ou processar informações além do controle de processos e servomecanismos. Sob \n",
        " esta ótica, também se pode afirmar que os circuitos internos dos computadores \n",
        " (que armazenam e processam informações), os sistemas de telecomunicações (que \n",
        "transmitem informações), os diversos tipos de sensores e transdutores (que representam\n",
        "grandezas físicas - informações - sob forma de sinais elétricos) estão, todos, dentro \n",
        "da área de interesse da eletrônica.\"\"\"\n",
        "#eletronica1"
      ],
      "metadata": {
        "id": "kfE5nFsXMQLy"
      },
      "execution_count": null,
      "outputs": []
    },
    {
      "cell_type": "code",
      "source": [
        "prediction(teste_3)"
      ],
      "metadata": {
        "colab": {
          "base_uri": "https://localhost:8080/",
          "height": 35
        },
        "id": "1C1aEn4cMSff",
        "outputId": "5b2ab31a-3a21-4057-f6ab-c70d94999cb7"
      },
      "execution_count": null,
      "outputs": [
        {
          "output_type": "execute_result",
          "data": {
            "text/plain": [
              "'Eletrônica'"
            ],
            "application/vnd.google.colaboratory.intrinsic+json": {
              "type": "string"
            }
          },
          "metadata": {},
          "execution_count": 99
        }
      ]
    },
    {
      "cell_type": "code",
      "source": [
        "teste_4 = \"\"\"projeto visa nova abordagem sistema vigilância móvel autônomo. pulseira \n",
        "biométrica coleta dados sobre batimento cardíaco usuário envia, via bluetooth, módulo\n",
        "processamento, smartphone sistema operacional android, faz análise destes batimentos \n",
        "cardíacos define usuário passando alguma situação risco morte, extremo estresse. \n",
        "smartphone escreve, periodicamente, informações tempo imediato sobre usuário, localização\n",
        "ica batimentos cardíacos, banco dados nuvem que, vez, contém informações pessoais usuário, \n",
        "tipo sanguíneo, telefone contato emergencial, alergias, outros. premissa dados nuvem\n",
        " acessíveis todo momento servidor externo servirem base socorro médico emergencial,\n",
        "  seja, sistema visa prover auxílio imediato maneira proativa autônoma, modo preservar \n",
        "  vidas, sendo baixo custo alcançável grande parte população. realizados diversos testes \n",
        "  simulações demonstrando adequabilidade sistema proposto situações problema apresentadas\"\"\"\n",
        "#eletronica 1"
      ],
      "metadata": {
        "id": "_29peWlJKdr2"
      },
      "execution_count": null,
      "outputs": []
    },
    {
      "cell_type": "code",
      "source": [
        "prediction(teste_4)"
      ],
      "metadata": {
        "colab": {
          "base_uri": "https://localhost:8080/",
          "height": 35
        },
        "id": "tO5MU3gBKekN",
        "outputId": "7d7d811d-ed74-4d8e-db7a-7ac4b4b86728"
      },
      "execution_count": null,
      "outputs": [
        {
          "output_type": "execute_result",
          "data": {
            "text/plain": [
              "'Eletrônica'"
            ],
            "application/vnd.google.colaboratory.intrinsic+json": {
              "type": "string"
            }
          },
          "metadata": {},
          "execution_count": 101
        }
      ]
    },
    {
      "cell_type": "markdown",
      "source": [
        "---"
      ],
      "metadata": {
        "id": "Chrri7QIQAem"
      }
    },
    {
      "cell_type": "markdown",
      "source": [
        "#Comparando com o modelo Tensorflow\n",
        "\n",
        "O modelo tensorflow semelhante pode ser encontrado no link abaixo:\n",
        "\n",
        "[Modelo TF-BERT](https://colab.research.google.com/drive/1sI6wb5BD7K6LBFmSs_30x9BjMUcPu94v?usp=sharing)\n",
        "\n",
        "No comparativo entre sentenças avulsas os dois obtveram o memso resultado, errando a sentença 3."
      ],
      "metadata": {
        "id": "srjF3HzOPtCV"
      }
    },
    {
      "cell_type": "code",
      "source": [
        "precisao = pd.DataFrame({ \"Modelo\":[\"Modelo PT-No_Scheduler\",\"Modelo PT-Scheduler\",\"Modelo TFBERT1\",\"Modelo TFBERT2\"],\n",
        "    \"Qtd. Disciplinas\":[2,2,2,2],\n",
        "    \"Qtd. Resumos\":[820,820,820,820],\n",
        "    \"Qtd. Res. Testes\":[8,8,8,8],\n",
        "    \"Épocas\":[10,10,20,50],\n",
        "    \"Loss\":[0.2751,0.2718,0.4403,0.0908],\n",
        "    \"Accuracy\":[0.7810,0.7702,0.8022,0.9603],\n",
        "    \"Val. Loss\":[0.4700,0.5699,0.0728,0.5093],\n",
        "    \"Val. Accuracy\":[0.7658,0.8200,0.9878,0.8875],\n",
        "    \"Precisão Testes\":[100,100,87.5,75]\n",
        "})"
      ],
      "metadata": {
        "id": "uM3lJq8qQV2b"
      },
      "execution_count": null,
      "outputs": []
    },
    {
      "cell_type": "code",
      "source": [
        "precisao"
      ],
      "metadata": {
        "id": "xvW_fJfnd1Ny",
        "colab": {
          "base_uri": "https://localhost:8080/",
          "height": 175
        },
        "outputId": "4bff1add-c6e3-42fb-ef07-5f56978a69ae"
      },
      "execution_count": null,
      "outputs": [
        {
          "output_type": "execute_result",
          "data": {
            "text/plain": [
              "                   Modelo  Qtd. Disciplinas  Qtd. Resumos  Qtd. Res. Testes  \\\n",
              "0  Modelo PT-No_Scheduler                 2           820                 8   \n",
              "1     Modelo PT-Scheduler                 2           820                 8   \n",
              "2          Modelo TFBERT1                 2           820                 8   \n",
              "3          Modelo TFBERT2                 2           820                 8   \n",
              "\n",
              "   Épocas    Loss  Accuracy  Val. Loss  Val. Accuracy  Precisão Testes  \n",
              "0      10  0.2751    0.7810     0.4700         0.7658            100.0  \n",
              "1      10  0.2718    0.7702     0.5699         0.8200            100.0  \n",
              "2      20  0.4403    0.8022     0.0728         0.9878             87.5  \n",
              "3      50  0.0908    0.9603     0.5093         0.8875             75.0  "
            ],
            "text/html": [
              "\n",
              "  <div id=\"df-f9fe3ac7-873a-4773-91fd-06acdd84fefd\">\n",
              "    <div class=\"colab-df-container\">\n",
              "      <div>\n",
              "<style scoped>\n",
              "    .dataframe tbody tr th:only-of-type {\n",
              "        vertical-align: middle;\n",
              "    }\n",
              "\n",
              "    .dataframe tbody tr th {\n",
              "        vertical-align: top;\n",
              "    }\n",
              "\n",
              "    .dataframe thead th {\n",
              "        text-align: right;\n",
              "    }\n",
              "</style>\n",
              "<table border=\"1\" class=\"dataframe\">\n",
              "  <thead>\n",
              "    <tr style=\"text-align: right;\">\n",
              "      <th></th>\n",
              "      <th>Modelo</th>\n",
              "      <th>Qtd. Disciplinas</th>\n",
              "      <th>Qtd. Resumos</th>\n",
              "      <th>Qtd. Res. Testes</th>\n",
              "      <th>Épocas</th>\n",
              "      <th>Loss</th>\n",
              "      <th>Accuracy</th>\n",
              "      <th>Val. Loss</th>\n",
              "      <th>Val. Accuracy</th>\n",
              "      <th>Precisão Testes</th>\n",
              "    </tr>\n",
              "  </thead>\n",
              "  <tbody>\n",
              "    <tr>\n",
              "      <th>0</th>\n",
              "      <td>Modelo PT-No_Scheduler</td>\n",
              "      <td>2</td>\n",
              "      <td>820</td>\n",
              "      <td>8</td>\n",
              "      <td>10</td>\n",
              "      <td>0.2751</td>\n",
              "      <td>0.7810</td>\n",
              "      <td>0.4700</td>\n",
              "      <td>0.7658</td>\n",
              "      <td>100.0</td>\n",
              "    </tr>\n",
              "    <tr>\n",
              "      <th>1</th>\n",
              "      <td>Modelo PT-Scheduler</td>\n",
              "      <td>2</td>\n",
              "      <td>820</td>\n",
              "      <td>8</td>\n",
              "      <td>10</td>\n",
              "      <td>0.2718</td>\n",
              "      <td>0.7702</td>\n",
              "      <td>0.5699</td>\n",
              "      <td>0.8200</td>\n",
              "      <td>100.0</td>\n",
              "    </tr>\n",
              "    <tr>\n",
              "      <th>2</th>\n",
              "      <td>Modelo TFBERT1</td>\n",
              "      <td>2</td>\n",
              "      <td>820</td>\n",
              "      <td>8</td>\n",
              "      <td>20</td>\n",
              "      <td>0.4403</td>\n",
              "      <td>0.8022</td>\n",
              "      <td>0.0728</td>\n",
              "      <td>0.9878</td>\n",
              "      <td>87.5</td>\n",
              "    </tr>\n",
              "    <tr>\n",
              "      <th>3</th>\n",
              "      <td>Modelo TFBERT2</td>\n",
              "      <td>2</td>\n",
              "      <td>820</td>\n",
              "      <td>8</td>\n",
              "      <td>50</td>\n",
              "      <td>0.0908</td>\n",
              "      <td>0.9603</td>\n",
              "      <td>0.5093</td>\n",
              "      <td>0.8875</td>\n",
              "      <td>75.0</td>\n",
              "    </tr>\n",
              "  </tbody>\n",
              "</table>\n",
              "</div>\n",
              "      <button class=\"colab-df-convert\" onclick=\"convertToInteractive('df-f9fe3ac7-873a-4773-91fd-06acdd84fefd')\"\n",
              "              title=\"Convert this dataframe to an interactive table.\"\n",
              "              style=\"display:none;\">\n",
              "        \n",
              "  <svg xmlns=\"http://www.w3.org/2000/svg\" height=\"24px\"viewBox=\"0 0 24 24\"\n",
              "       width=\"24px\">\n",
              "    <path d=\"M0 0h24v24H0V0z\" fill=\"none\"/>\n",
              "    <path d=\"M18.56 5.44l.94 2.06.94-2.06 2.06-.94-2.06-.94-.94-2.06-.94 2.06-2.06.94zm-11 1L8.5 8.5l.94-2.06 2.06-.94-2.06-.94L8.5 2.5l-.94 2.06-2.06.94zm10 10l.94 2.06.94-2.06 2.06-.94-2.06-.94-.94-2.06-.94 2.06-2.06.94z\"/><path d=\"M17.41 7.96l-1.37-1.37c-.4-.4-.92-.59-1.43-.59-.52 0-1.04.2-1.43.59L10.3 9.45l-7.72 7.72c-.78.78-.78 2.05 0 2.83L4 21.41c.39.39.9.59 1.41.59.51 0 1.02-.2 1.41-.59l7.78-7.78 2.81-2.81c.8-.78.8-2.07 0-2.86zM5.41 20L4 18.59l7.72-7.72 1.47 1.35L5.41 20z\"/>\n",
              "  </svg>\n",
              "      </button>\n",
              "      \n",
              "  <style>\n",
              "    .colab-df-container {\n",
              "      display:flex;\n",
              "      flex-wrap:wrap;\n",
              "      gap: 12px;\n",
              "    }\n",
              "\n",
              "    .colab-df-convert {\n",
              "      background-color: #E8F0FE;\n",
              "      border: none;\n",
              "      border-radius: 50%;\n",
              "      cursor: pointer;\n",
              "      display: none;\n",
              "      fill: #1967D2;\n",
              "      height: 32px;\n",
              "      padding: 0 0 0 0;\n",
              "      width: 32px;\n",
              "    }\n",
              "\n",
              "    .colab-df-convert:hover {\n",
              "      background-color: #E2EBFA;\n",
              "      box-shadow: 0px 1px 2px rgba(60, 64, 67, 0.3), 0px 1px 3px 1px rgba(60, 64, 67, 0.15);\n",
              "      fill: #174EA6;\n",
              "    }\n",
              "\n",
              "    [theme=dark] .colab-df-convert {\n",
              "      background-color: #3B4455;\n",
              "      fill: #D2E3FC;\n",
              "    }\n",
              "\n",
              "    [theme=dark] .colab-df-convert:hover {\n",
              "      background-color: #434B5C;\n",
              "      box-shadow: 0px 1px 3px 1px rgba(0, 0, 0, 0.15);\n",
              "      filter: drop-shadow(0px 1px 2px rgba(0, 0, 0, 0.3));\n",
              "      fill: #FFFFFF;\n",
              "    }\n",
              "  </style>\n",
              "\n",
              "      <script>\n",
              "        const buttonEl =\n",
              "          document.querySelector('#df-f9fe3ac7-873a-4773-91fd-06acdd84fefd button.colab-df-convert');\n",
              "        buttonEl.style.display =\n",
              "          google.colab.kernel.accessAllowed ? 'block' : 'none';\n",
              "\n",
              "        async function convertToInteractive(key) {\n",
              "          const element = document.querySelector('#df-f9fe3ac7-873a-4773-91fd-06acdd84fefd');\n",
              "          const dataTable =\n",
              "            await google.colab.kernel.invokeFunction('convertToInteractive',\n",
              "                                                     [key], {});\n",
              "          if (!dataTable) return;\n",
              "\n",
              "          const docLinkHtml = 'Like what you see? Visit the ' +\n",
              "            '<a target=\"_blank\" href=https://colab.research.google.com/notebooks/data_table.ipynb>data table notebook</a>'\n",
              "            + ' to learn more about interactive tables.';\n",
              "          element.innerHTML = '';\n",
              "          dataTable['output_type'] = 'display_data';\n",
              "          await google.colab.output.renderOutput(dataTable, element);\n",
              "          const docLink = document.createElement('div');\n",
              "          docLink.innerHTML = docLinkHtml;\n",
              "          element.appendChild(docLink);\n",
              "        }\n",
              "      </script>\n",
              "    </div>\n",
              "  </div>\n",
              "  "
            ]
          },
          "metadata": {},
          "execution_count": 103
        }
      ]
    },
    {
      "cell_type": "markdown",
      "source": [
        "# Conclusão\n",
        "\n",
        "O modelo Pytorch foi treinado com bem nenos épocas que os modelos Tensorflow, mas foram capazes de entregar precisão superior no dataset de testes, e igual para as sentenças avulsas.\n",
        "\n",
        "O tempo de treinamento não foi comparado pois os modelos Tensorflow foram treinados em CPU, e os modelos Pytorch em GPU.\n",
        "\n",
        "Este Modelo pode ser aperfeiçoado utilizando uma construção customizada dos layers finais, e com um dataset maior.\n",
        "\n",
        "Foi observado que com o scheduler, a precisão de validação foi muito maior que sem utilizar.\n",
        "\n",
        "Os resultados de Precisão, Loss, Precisão de Validação e Loss de Validação foram obtidos através da média de 5 treinamentos com cada modelo."
      ],
      "metadata": {
        "id": "6HU2cRzOeDfv"
      }
    },
    {
      "cell_type": "markdown",
      "source": [],
      "metadata": {
        "id": "NvBJ-cTBP_ZH"
      }
    },
    {
      "cell_type": "markdown",
      "source": [
        "# Referências e Citação\n",
        "\n",
        "### BERTimbal, por NeuralmindAI."
      ],
      "metadata": {
        "id": "GBI1hBXgLlIG"
      }
    },
    {
      "cell_type": "code",
      "source": [
        "\"\"\"\n",
        "@inproceedings{souza2020bertimbau,\n",
        "    author    = {Souza, F{\\'a}bio and Nogueira, Rodrigo and Lotufo, Roberto},\n",
        "    title     = {{BERT}imbau: pretrained {BERT} models for {B}razilian {P}ortuguese},\n",
        "    booktitle = {9th Brazilian Conference on Intelligent Systems, {BRACIS}, Rio Grande do Sul, Brazil, October 20-23 (to appear)},\n",
        "    year      = {2020}\n",
        "}\n",
        "\n",
        "@article{souza2019portuguese,\n",
        "    title={Portuguese Named Entity Recognition using BERT-CRF},\n",
        "    author={Souza, F{\\'a}bio and Nogueira, Rodrigo and Lotufo, Roberto},\n",
        "    journal={arXiv preprint arXiv:1909.10649},\n",
        "    url={http://arxiv.org/abs/1909.10649},\n",
        "    year={2019}\n",
        "}\n",
        "\"\"\""
      ],
      "metadata": {
        "id": "iX27NY_eLoYh",
        "colab": {
          "base_uri": "https://localhost:8080/",
          "height": 87
        },
        "outputId": "64001dd4-8a28-4a71-97f3-a0ebde7b2ca9"
      },
      "execution_count": null,
      "outputs": [
        {
          "output_type": "execute_result",
          "data": {
            "text/plain": [
              "\"\\n@inproceedings{souza2020bertimbau,\\n    author    = {Souza, F{'a}bio and Nogueira, Rodrigo and Lotufo, Roberto},\\n    title     = {{BERT}imbau: pretrained {BERT} models for {B}razilian {P}ortuguese},\\n    booktitle = {9th Brazilian Conference on Intelligent Systems, {BRACIS}, Rio Grande do Sul, Brazil, October 20-23 (to appear)},\\n    year      = {2020}\\n}\\n\\n@article{souza2019portuguese,\\n    title={Portuguese Named Entity Recognition using BERT-CRF},\\n    author={Souza, F{'a}bio and Nogueira, Rodrigo and Lotufo, Roberto},\\n    journal={arXiv preprint arXiv:1909.10649},\\n    url={http://arxiv.org/abs/1909.10649},\\n    year={2019}\\n}\\n\""
            ],
            "application/vnd.google.colaboratory.intrinsic+json": {
              "type": "string"
            }
          },
          "metadata": {},
          "execution_count": 104
        }
      ]
    }
  ],
  "metadata": {
    "accelerator": "GPU",
    "colab": {
      "provenance": []
    },
    "gpuClass": "standard",
    "kernelspec": {
      "display_name": "Python 3",
      "name": "python3"
    },
    "language_info": {
      "name": "python"
    }
  },
  "nbformat": 4,
  "nbformat_minor": 0
}